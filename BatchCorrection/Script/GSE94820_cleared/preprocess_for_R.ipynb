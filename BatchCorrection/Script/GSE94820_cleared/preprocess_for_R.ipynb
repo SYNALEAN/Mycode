{
 "cells": [
  {
   "cell_type": "code",
   "execution_count": 3,
   "source": [
    "import pandas as pd\r\n",
    "import numpy as np\r\n",
    "import scanpy as sc\r\n",
    "\r\n",
    "\r\n",
    "sc.settings.set_figure_params(dpi=80, facecolor='white')\r\n",
    "\r\n",
    "DataPath = \"../../Dataset/GSE94820_cleared/\"\r\n",
    "\r\n",
    "\r\n",
    "bat1 = sc.read_h5ad(DataPath+'batch1Data.h5ad')\r\n",
    "bat2 = sc.read_h5ad(DataPath+'batch2Data.h5ad')"
   ],
   "outputs": [],
   "metadata": {}
  },
  {
   "cell_type": "code",
   "execution_count": 6,
   "source": [
    "bat1.obs.to_csv('forR/cells1.csv')\r\n",
    "bat2.obs.to_csv('forR/cells2.csv')\r\n",
    "\r\n",
    "batch1Data_R = pd.DataFrame(bat1.X.T,index=bat1.var.index, columns=bat1.obs.index)\r\n",
    "batch2Data_R = pd.DataFrame(bat2.X.T,index=bat2.var.index, columns=bat2.obs.index)\r\n",
    "\r\n",
    "batch1Data_R.to_csv('forR/batch1Data_R.csv')\r\n",
    "batch2Data_R.to_csv('forR/batch2Data_R.csv')\r\n",
    "\r\n",
    "bat1.var.to_csv('forR/genes.csv')"
   ],
   "outputs": [],
   "metadata": {}
  }
 ],
 "metadata": {
  "orig_nbformat": 4,
  "language_info": {
   "name": "python",
   "version": "3.7.10",
   "mimetype": "text/x-python",
   "codemirror_mode": {
    "name": "ipython",
    "version": 3
   },
   "pygments_lexer": "ipython3",
   "nbconvert_exporter": "python",
   "file_extension": ".py"
  },
  "kernelspec": {
   "name": "python3",
   "display_name": "Python 3.7.10 64-bit ('SingleC': conda)"
  },
  "interpreter": {
   "hash": "e747b4bc704e04bc4dbd3fcd3c6bcf317dfb5e31049cb7aeed1d319614642724"
  }
 },
 "nbformat": 4,
 "nbformat_minor": 2
}