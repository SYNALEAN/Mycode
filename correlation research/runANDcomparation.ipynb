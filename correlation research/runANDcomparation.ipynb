{
 "cells": [
  {
   "cell_type": "code",
   "execution_count": 1,
   "metadata": {
    "collapsed": true,
    "pycharm": {
     "is_executing": false
    }
   },
   "outputs": [],
   "source": [
    "import pandas as pd\n",
    "expressionInThis = pd.read_csv('dataSample_rna_BRCA.csv',header = 0)\n",
    "BRCA_index = pd.read_csv('BRCA_index.csv',header=0)\n",
    "peakInthis = pd.read_csv('dataSample_atac_BRCA.csv',header = 0)"
   ]
  },
  {
   "cell_type": "code",
   "execution_count": 1,
   "outputs": [],
   "source": [
    "#这里有大问题啊啊啊啊我忘记求log2了\n",
    "import pandas as pd\n",
    "expressionInThis = pd.read_csv('dataSample_rna_BRCA_11.csv',header = 0)"
   ],
   "metadata": {
    "collapsed": false,
    "pycharm": {
     "name": "#%%\n",
     "is_executing": false
    }
   }
  },
  {
   "cell_type": "code",
   "execution_count": 2,
   "outputs": [],
   "source": [
    "columns = expressionInThis.columns.tolist()\n",
    "import numpy as np \n",
    "\n",
    "for item in columns:\n",
    "    expressionInThis[item] = np.log2(expressionInThis[item]+1)"
   ],
   "metadata": {
    "collapsed": false,
    "pycharm": {
     "name": "#%%\n",
     "is_executing": false
    }
   }
  },
  {
   "cell_type": "code",
   "execution_count": 3,
   "outputs": [],
   "source": [
    "expressionInThis.to_csv('dataSample_rna_BRCA_norm_11.csv',index = 0)"
   ],
   "metadata": {
    "collapsed": false,
    "pycharm": {
     "name": "#%%\n",
     "is_executing": false
    }
   }
  },
  {
   "cell_type": "code",
   "execution_count": 2,
   "outputs": [
    {
     "data": {
      "text/plain": "                     chr     start       end  width loadedanno.gene_id  \\\nloadedanno.gene_id                                                       \nENSG00000223972.5   chr1     11869     14409   2541  ENSG00000223972.5   \nENSG00000227232.5   chr1     14404     29570  15167  ENSG00000227232.5   \nENSG00000278267.1   chr1     17369     17436     68  ENSG00000278267.1   \nENSG00000243485.3   chr1     29554     31109   1556  ENSG00000243485.3   \nENSG00000274890.1   chr1     30366     30503    138  ENSG00000274890.1   \n...                  ...       ...       ...    ...                ...   \nENSG00000224240.1   chrY  26549425  26549743    319  ENSG00000224240.1   \nENSG00000227629.1   chrY  26586642  26591601   4960  ENSG00000227629.1   \nENSG00000237917.1   chrY  26594851  26634652  39802  ENSG00000237917.1   \nENSG00000231514.1   chrY  26626520  26627159    640  ENSG00000231514.1   \nENSG00000235857.1   chrY  56855244  56855488    245  ENSG00000235857.1   \n\n                   loadedanno.type  exonlen  \nloadedanno.gene_id                           \nENSG00000223972.5             gene   2289.0  \nENSG00000227232.5             gene   1351.0  \nENSG00000278267.1             gene     68.0  \nENSG00000243485.3             gene   1247.0  \nENSG00000274890.1             gene    138.0  \n...                            ...      ...  \nENSG00000224240.1             gene    319.0  \nENSG00000227629.1             gene    342.0  \nENSG00000237917.1             gene   2337.0  \nENSG00000231514.1             gene    640.0  \nENSG00000235857.1             gene      NaN  \n\n[60446 rows x 7 columns]",
      "text/html": "<div>\n<style scoped>\n    .dataframe tbody tr th:only-of-type {\n        vertical-align: middle;\n    }\n\n    .dataframe tbody tr th {\n        vertical-align: top;\n    }\n\n    .dataframe thead th {\n        text-align: right;\n    }\n</style>\n<table border=\"1\" class=\"dataframe\">\n  <thead>\n    <tr style=\"text-align: right;\">\n      <th></th>\n      <th>chr</th>\n      <th>start</th>\n      <th>end</th>\n      <th>width</th>\n      <th>loadedanno.gene_id</th>\n      <th>loadedanno.type</th>\n      <th>exonlen</th>\n    </tr>\n    <tr>\n      <th>loadedanno.gene_id</th>\n      <th></th>\n      <th></th>\n      <th></th>\n      <th></th>\n      <th></th>\n      <th></th>\n      <th></th>\n    </tr>\n  </thead>\n  <tbody>\n    <tr>\n      <td>ENSG00000223972.5</td>\n      <td>chr1</td>\n      <td>11869</td>\n      <td>14409</td>\n      <td>2541</td>\n      <td>ENSG00000223972.5</td>\n      <td>gene</td>\n      <td>2289.0</td>\n    </tr>\n    <tr>\n      <td>ENSG00000227232.5</td>\n      <td>chr1</td>\n      <td>14404</td>\n      <td>29570</td>\n      <td>15167</td>\n      <td>ENSG00000227232.5</td>\n      <td>gene</td>\n      <td>1351.0</td>\n    </tr>\n    <tr>\n      <td>ENSG00000278267.1</td>\n      <td>chr1</td>\n      <td>17369</td>\n      <td>17436</td>\n      <td>68</td>\n      <td>ENSG00000278267.1</td>\n      <td>gene</td>\n      <td>68.0</td>\n    </tr>\n    <tr>\n      <td>ENSG00000243485.3</td>\n      <td>chr1</td>\n      <td>29554</td>\n      <td>31109</td>\n      <td>1556</td>\n      <td>ENSG00000243485.3</td>\n      <td>gene</td>\n      <td>1247.0</td>\n    </tr>\n    <tr>\n      <td>ENSG00000274890.1</td>\n      <td>chr1</td>\n      <td>30366</td>\n      <td>30503</td>\n      <td>138</td>\n      <td>ENSG00000274890.1</td>\n      <td>gene</td>\n      <td>138.0</td>\n    </tr>\n    <tr>\n      <td>...</td>\n      <td>...</td>\n      <td>...</td>\n      <td>...</td>\n      <td>...</td>\n      <td>...</td>\n      <td>...</td>\n      <td>...</td>\n    </tr>\n    <tr>\n      <td>ENSG00000224240.1</td>\n      <td>chrY</td>\n      <td>26549425</td>\n      <td>26549743</td>\n      <td>319</td>\n      <td>ENSG00000224240.1</td>\n      <td>gene</td>\n      <td>319.0</td>\n    </tr>\n    <tr>\n      <td>ENSG00000227629.1</td>\n      <td>chrY</td>\n      <td>26586642</td>\n      <td>26591601</td>\n      <td>4960</td>\n      <td>ENSG00000227629.1</td>\n      <td>gene</td>\n      <td>342.0</td>\n    </tr>\n    <tr>\n      <td>ENSG00000237917.1</td>\n      <td>chrY</td>\n      <td>26594851</td>\n      <td>26634652</td>\n      <td>39802</td>\n      <td>ENSG00000237917.1</td>\n      <td>gene</td>\n      <td>2337.0</td>\n    </tr>\n    <tr>\n      <td>ENSG00000231514.1</td>\n      <td>chrY</td>\n      <td>26626520</td>\n      <td>26627159</td>\n      <td>640</td>\n      <td>ENSG00000231514.1</td>\n      <td>gene</td>\n      <td>640.0</td>\n    </tr>\n    <tr>\n      <td>ENSG00000235857.1</td>\n      <td>chrY</td>\n      <td>56855244</td>\n      <td>56855488</td>\n      <td>245</td>\n      <td>ENSG00000235857.1</td>\n      <td>gene</td>\n      <td>NaN</td>\n    </tr>\n  </tbody>\n</table>\n<p>60446 rows × 7 columns</p>\n</div>"
     },
     "metadata": {},
     "output_type": "execute_result",
     "execution_count": 2
    }
   ],
   "source": [
    "geneleft = expressionInThis.columns.tolist()\n",
    "gene_anno = pd.read_csv('geneid_anno.csv',header=0)\n",
    "gene_anno.index = gene_anno['loadedanno.gene_id']\n",
    "chromosomes = BRCA_index['seqnames'].value_counts()\n",
    "\n",
    "gene_anno"
   ],
   "metadata": {
    "collapsed": false,
    "pycharm": {
     "name": "#%%\n",
     "is_executing": false
    }
   }
  },
  {
   "cell_type": "code",
   "execution_count": 4,
   "outputs": [
    {
     "data": {
      "text/plain": "                      chr      start        end   width  loadedanno.gene_id  \\\nloadedanno.gene_id                                                            \nENSG00000000003.13   chrX  100627109  100639991   12883  ENSG00000000003.13   \nENSG00000000005.5    chrX  100584802  100599885   15084   ENSG00000000005.5   \nENSG00000000419.11  chr20   50934867   50958555   23689  ENSG00000000419.11   \nENSG00000000457.12   chr1  169849631  169894267   44637  ENSG00000000457.12   \nENSG00000000460.15   chr1  169662007  169854080  192074  ENSG00000000460.15   \n...                   ...        ...        ...     ...                 ...   \nENSG00000281910.1   chr16   58559796   58559931     136   ENSG00000281910.1   \nENSG00000281912.1    chr1   45303910   45305619    1710   ENSG00000281912.1   \nENSG00000281918.1    chr1  113079537  113079847     311   ENSG00000281918.1   \nENSG00000281920.1    chr2   65623272   65628424    5153   ENSG00000281920.1   \nENSG00000281921.1    chr3  134261776  134261911     136   ENSG00000281921.1   \n\n                   loadedanno.type  exonlen  \nloadedanno.gene_id                           \nENSG00000000003.13            gene   8747.0  \nENSG00000000005.5             gene   1881.0  \nENSG00000000419.11            gene   5867.0  \nENSG00000000457.12            gene  15985.0  \nENSG00000000460.15            gene  21871.0  \n...                            ...      ...  \nENSG00000281910.1             gene    136.0  \nENSG00000281912.1             gene   1710.0  \nENSG00000281918.1             gene    311.0  \nENSG00000281920.1             gene    744.0  \nENSG00000281921.1             gene    136.0  \n\n[45334 rows x 7 columns]",
      "text/html": "<div>\n<style scoped>\n    .dataframe tbody tr th:only-of-type {\n        vertical-align: middle;\n    }\n\n    .dataframe tbody tr th {\n        vertical-align: top;\n    }\n\n    .dataframe thead th {\n        text-align: right;\n    }\n</style>\n<table border=\"1\" class=\"dataframe\">\n  <thead>\n    <tr style=\"text-align: right;\">\n      <th></th>\n      <th>chr</th>\n      <th>start</th>\n      <th>end</th>\n      <th>width</th>\n      <th>loadedanno.gene_id</th>\n      <th>loadedanno.type</th>\n      <th>exonlen</th>\n    </tr>\n    <tr>\n      <th>loadedanno.gene_id</th>\n      <th></th>\n      <th></th>\n      <th></th>\n      <th></th>\n      <th></th>\n      <th></th>\n      <th></th>\n    </tr>\n  </thead>\n  <tbody>\n    <tr>\n      <td>ENSG00000000003.13</td>\n      <td>chrX</td>\n      <td>100627109</td>\n      <td>100639991</td>\n      <td>12883</td>\n      <td>ENSG00000000003.13</td>\n      <td>gene</td>\n      <td>8747.0</td>\n    </tr>\n    <tr>\n      <td>ENSG00000000005.5</td>\n      <td>chrX</td>\n      <td>100584802</td>\n      <td>100599885</td>\n      <td>15084</td>\n      <td>ENSG00000000005.5</td>\n      <td>gene</td>\n      <td>1881.0</td>\n    </tr>\n    <tr>\n      <td>ENSG00000000419.11</td>\n      <td>chr20</td>\n      <td>50934867</td>\n      <td>50958555</td>\n      <td>23689</td>\n      <td>ENSG00000000419.11</td>\n      <td>gene</td>\n      <td>5867.0</td>\n    </tr>\n    <tr>\n      <td>ENSG00000000457.12</td>\n      <td>chr1</td>\n      <td>169849631</td>\n      <td>169894267</td>\n      <td>44637</td>\n      <td>ENSG00000000457.12</td>\n      <td>gene</td>\n      <td>15985.0</td>\n    </tr>\n    <tr>\n      <td>ENSG00000000460.15</td>\n      <td>chr1</td>\n      <td>169662007</td>\n      <td>169854080</td>\n      <td>192074</td>\n      <td>ENSG00000000460.15</td>\n      <td>gene</td>\n      <td>21871.0</td>\n    </tr>\n    <tr>\n      <td>...</td>\n      <td>...</td>\n      <td>...</td>\n      <td>...</td>\n      <td>...</td>\n      <td>...</td>\n      <td>...</td>\n      <td>...</td>\n    </tr>\n    <tr>\n      <td>ENSG00000281910.1</td>\n      <td>chr16</td>\n      <td>58559796</td>\n      <td>58559931</td>\n      <td>136</td>\n      <td>ENSG00000281910.1</td>\n      <td>gene</td>\n      <td>136.0</td>\n    </tr>\n    <tr>\n      <td>ENSG00000281912.1</td>\n      <td>chr1</td>\n      <td>45303910</td>\n      <td>45305619</td>\n      <td>1710</td>\n      <td>ENSG00000281912.1</td>\n      <td>gene</td>\n      <td>1710.0</td>\n    </tr>\n    <tr>\n      <td>ENSG00000281918.1</td>\n      <td>chr1</td>\n      <td>113079537</td>\n      <td>113079847</td>\n      <td>311</td>\n      <td>ENSG00000281918.1</td>\n      <td>gene</td>\n      <td>311.0</td>\n    </tr>\n    <tr>\n      <td>ENSG00000281920.1</td>\n      <td>chr2</td>\n      <td>65623272</td>\n      <td>65628424</td>\n      <td>5153</td>\n      <td>ENSG00000281920.1</td>\n      <td>gene</td>\n      <td>744.0</td>\n    </tr>\n    <tr>\n      <td>ENSG00000281921.1</td>\n      <td>chr3</td>\n      <td>134261776</td>\n      <td>134261911</td>\n      <td>136</td>\n      <td>ENSG00000281921.1</td>\n      <td>gene</td>\n      <td>136.0</td>\n    </tr>\n  </tbody>\n</table>\n<p>45334 rows × 7 columns</p>\n</div>"
     },
     "metadata": {},
     "output_type": "execute_result",
     "execution_count": 4
    }
   ],
   "source": [
    "gene_anno = gene_anno.loc[geneleft]\n",
    "gene_anno"
   ],
   "metadata": {
    "collapsed": false,
    "pycharm": {
     "name": "#%%\n",
     "is_executing": false
    }
   }
  },
  {
   "cell_type": "code",
   "execution_count": 4,
   "outputs": [],
   "source": [
    "gene_anno = gene_anno.reset_index(drop=True)\n",
    "gene_anno.sort_values(by=['chr','start'],axis=0,ascending=[True,True],inplace=True)\n",
    "gene_anno.reset_index(drop =True, inplace = True)\n"
   ],
   "metadata": {
    "collapsed": false,
    "pycharm": {
     "name": "#%%\n",
     "is_executing": false
    }
   }
  },
  {
   "cell_type": "code",
   "execution_count": 5,
   "outputs": [
    {
     "name": "stdout",
     "text": [
      "finished_chr22\n",
      "finished_chrX\n",
      "finished_chr21\n"
     ],
     "output_type": "stream"
    }
   ],
   "source": [
    "#先只有一个 chr1的：\n",
    "pearson_score = []\n",
    "pearson_p = []\n",
    "genename = []\n",
    "peakname = []\n",
    "chro = []\n",
    "from scipy.stats import pearsonr\n",
    "for j in range(0,len(chromosomes)):\n",
    "    suoyin = chromosomes.index[j]\n",
    "    gene_loc = gene_anno[gene_anno['chr']==suoyin]\n",
    "    gene_loc.reset_index(drop =True, inplace = True)\n",
    "    #对每个染色体都来一遍\n",
    "    peak_loc = BRCA_index[BRCA_index['seqnames']==suoyin]\n",
    "    peak_loc.reset_index(drop =True, inplace = True)\n",
    "    # 写个算相关系数的\n",
    "    #try1 = pearsonr(peak_loc.start,peak_loc.end) \n",
    "    initial_loc = 0 \n",
    "\n",
    "    for i in range(len(gene_loc)):\n",
    "        g_name = gene_loc['loadedanno.gene_id'][i]\n",
    "        try:\n",
    "            while gene_loc.start[i]-peak_loc.start[initial_loc] > 5000000:\n",
    "                initial_loc = initial_loc+1\n",
    "                if initial_loc == len(peak_loc):\n",
    "                    break\n",
    "            #print(str(initial_loc))\n",
    "        #现在的话应该是大于-500了\n",
    "        except:\n",
    "            print('Error occur'+str(initial_loc)+str(len(peak_loc)))\n",
    "        if initial_loc == len(peak_loc):\n",
    "            continue\n",
    "        target_loc = initial_loc\n",
    "        while gene_loc.start[i]-peak_loc.start[target_loc] > -5000000:\n",
    "            p_name = peak_loc.name[target_loc]\n",
    "            c_result = pearsonr(expressionInThis[g_name],peakInthis[p_name])\n",
    "            pearson_score.append(c_result[0])\n",
    "            pearson_p.append(c_result[1])\n",
    "            genename.append(g_name)\n",
    "            peakname.append(p_name)\n",
    "            chro.append(suoyin)\n",
    "            target_loc = target_loc +1\n",
    "            if target_loc == len(peak_loc):\n",
    "                break\n",
    "        #print(str(target_loc))\n",
    "        \n",
    "        #print(str(i))\n",
    "    #print('finished_'+str(gene_loc.start[i]))    \n",
    "    print('finished_'+ suoyin)"
   ],
   "metadata": {
    "collapsed": false,
    "pycharm": {
     "name": "#%%\n",
     "is_executing": false
    }
   }
  },
  {
   "cell_type": "code",
   "execution_count": 6,
   "outputs": [],
   "source": [
    "output = pd.DataFrame({'chr': chro, 'geneid': genename,'peakname':peakname,'pearson':pearson_score,'p':pearson_p})\n",
    "output\n",
    "\n",
    "\n",
    "output.to_csv('test_pearson_onBRCA_2.csv',index=0)"
   ],
   "metadata": {
    "collapsed": false,
    "pycharm": {
     "name": "#%%\n",
     "is_executing": false
    }
   }
  },
  {
   "cell_type": "code",
   "execution_count": 6,
   "outputs": [],
   "source": [],
   "metadata": {
    "collapsed": false,
    "pycharm": {
     "name": "#%%\n",
     "is_executing": false
    }
   }
  },
  {
   "cell_type": "code",
   "execution_count": 6,
   "outputs": [],
   "source": [],
   "metadata": {
    "collapsed": false,
    "pycharm": {
     "name": "#%%\n",
     "is_executing": false
    }
   }
  },
  {
   "cell_type": "code",
   "execution_count": 7,
   "outputs": [
    {
     "traceback": [
      "\u001b[1;31m---------------------------------------------------------------------------\u001b[0m",
      "\u001b[1;31mKeyboardInterrupt\u001b[0m                         Traceback (most recent call last)",
      "\u001b[1;32m<ipython-input-7-037e0a57dae2>\u001b[0m in \u001b[0;36m<module>\u001b[1;34m\u001b[0m\n\u001b[0;32m     25\u001b[0m         \u001b[0mcorlist\u001b[0m \u001b[1;33m=\u001b[0m \u001b[1;33m[\u001b[0m\u001b[1;33m]\u001b[0m\u001b[1;33m\u001b[0m\u001b[1;33m\u001b[0m\u001b[0m\n\u001b[0;32m     26\u001b[0m         \u001b[1;32mfor\u001b[0m \u001b[0mitem\u001b[0m \u001b[1;32min\u001b[0m \u001b[0mchoosed\u001b[0m\u001b[1;33m:\u001b[0m\u001b[1;33m\u001b[0m\u001b[1;33m\u001b[0m\u001b[0m\n\u001b[1;32m---> 27\u001b[1;33m             \u001b[0mcor\u001b[0m \u001b[1;33m=\u001b[0m \u001b[0mpearsonr\u001b[0m\u001b[1;33m(\u001b[0m\u001b[0mpeakInthis\u001b[0m\u001b[1;33m[\u001b[0m\u001b[0mitem\u001b[0m\u001b[1;33m]\u001b[0m\u001b[1;33m,\u001b[0m\u001b[0mexpressionInThis\u001b[0m\u001b[1;33m[\u001b[0m\u001b[0mtheid\u001b[0m\u001b[1;33m]\u001b[0m\u001b[1;33m)\u001b[0m\u001b[1;33m\u001b[0m\u001b[1;33m\u001b[0m\u001b[0m\n\u001b[0m\u001b[0;32m     28\u001b[0m             \u001b[0mcorlist\u001b[0m\u001b[1;33m.\u001b[0m\u001b[0mappend\u001b[0m\u001b[1;33m(\u001b[0m\u001b[0mcor\u001b[0m\u001b[1;33m[\u001b[0m\u001b[1;36m0\u001b[0m\u001b[1;33m]\u001b[0m\u001b[1;33m)\u001b[0m\u001b[1;33m\u001b[0m\u001b[1;33m\u001b[0m\u001b[0m\n\u001b[0;32m     29\u001b[0m         \u001b[0mvari\u001b[0m \u001b[1;33m=\u001b[0m \u001b[0mnp\u001b[0m\u001b[1;33m.\u001b[0m\u001b[0mvar\u001b[0m\u001b[1;33m(\u001b[0m\u001b[0mcorlist\u001b[0m\u001b[1;33m)\u001b[0m\u001b[1;33m\u001b[0m\u001b[1;33m\u001b[0m\u001b[0m\n",
      "\u001b[1;32mD:\\Anaconda\\lib\\site-packages\\scipy\\stats\\stats.py\u001b[0m in \u001b[0;36mpearsonr\u001b[1;34m(x, y)\u001b[0m\n\u001b[0;32m   3414\u001b[0m     \u001b[1;31m# use at least 64 bit floating point.\u001b[0m\u001b[1;33m\u001b[0m\u001b[1;33m\u001b[0m\u001b[1;33m\u001b[0m\u001b[0m\n\u001b[0;32m   3415\u001b[0m     \u001b[0mxm\u001b[0m \u001b[1;33m=\u001b[0m \u001b[0mx\u001b[0m\u001b[1;33m.\u001b[0m\u001b[0mastype\u001b[0m\u001b[1;33m(\u001b[0m\u001b[0mdtype\u001b[0m\u001b[1;33m)\u001b[0m \u001b[1;33m-\u001b[0m \u001b[0mxmean\u001b[0m\u001b[1;33m\u001b[0m\u001b[1;33m\u001b[0m\u001b[0m\n\u001b[1;32m-> 3416\u001b[1;33m     \u001b[0mym\u001b[0m \u001b[1;33m=\u001b[0m \u001b[0my\u001b[0m\u001b[1;33m.\u001b[0m\u001b[0mastype\u001b[0m\u001b[1;33m(\u001b[0m\u001b[0mdtype\u001b[0m\u001b[1;33m)\u001b[0m \u001b[1;33m-\u001b[0m \u001b[0mymean\u001b[0m\u001b[1;33m\u001b[0m\u001b[1;33m\u001b[0m\u001b[0m\n\u001b[0m\u001b[0;32m   3417\u001b[0m \u001b[1;33m\u001b[0m\u001b[0m\n\u001b[0;32m   3418\u001b[0m     \u001b[1;31m# Unlike np.linalg.norm or the expression sqrt((xm*xm).sum()),\u001b[0m\u001b[1;33m\u001b[0m\u001b[1;33m\u001b[0m\u001b[1;33m\u001b[0m\u001b[0m\n",
      "\u001b[1;31mKeyboardInterrupt\u001b[0m: "
     ],
     "ename": "KeyboardInterrupt",
     "evalue": "",
     "output_type": "error"
    }
   ],
   "source": [
    "from scipy.stats import pearsonr\n",
    "import numpy as np\n",
    "gene_name = []\n",
    "variance = []\n",
    "mean = []\n",
    "\n",
    "peak_loc = BRCA_index\n",
    "peak_loc.reset_index(drop =True, inplace = True)\n",
    "randomsample = 10000\n",
    "randomlist = np.random.rand(len(peak_loc))\n",
    "random_sorted = np.sort(randomlist)\n",
    "threshold = random_sorted[randomsample]\n",
    "peak_loc['random'] = randomlist\n",
    "peak_loc = peak_loc[peak_loc['random']<threshold]    \n",
    "choosed = peak_loc['name'].tolist()\n",
    "notfinded = 0\n",
    "\n",
    "for j in range(0,len(chromosomes)):\n",
    "    suoyin = chromosomes.index[j]\n",
    "    gene_loc = gene_anno[gene_anno['chr']==suoyin]\n",
    "    gene_loc.reset_index(drop =True, inplace = True)\n",
    "    #对每个染色体都来一遍    \n",
    "    for i in range(0,len(gene_loc)):\n",
    "        theid = gene_loc['loadedanno.gene_id'][i]\n",
    "        gene_name.append(theid)\n",
    "        corlist = []\n",
    "        try:\n",
    "            expre = \n",
    "            for item in choosed:            \n",
    "                cor = pearsonr(peakInthis[item],expressionInThis[theid])\n",
    "                corlist.append(cor[0])\n",
    "                vari = np.var(corlist)\n",
    "                meani = np.mean(corlist)\n",
    "                variance.append(vari)\n",
    "                mean.append(meani)\n",
    "            except:\n",
    "                notfinded = notfinded+1\n",
    "                print('fail_find_'+theid)\n",
    "\n",
    "        \n",
    "    print('finished_'+suoyin)\n",
    "    \n",
    "forFDR = pd.DataFrame({'gene_id':gene_name,'mean':mean,'var':variance})\n",
    "\n",
    "forFDR.to_csv('forFDR.csv',index=0)\n",
    "print('finished')"
   ],
   "metadata": {
    "collapsed": false,
    "pycharm": {
     "name": "#%%\n",
     "is_executing": false
    }
   }
  },
  {
   "cell_type": "code",
   "execution_count": 9,
   "outputs": [
    {
     "data": {
      "text/plain": "                     chr   start     end  width loadedanno.gene_id  \\\nloadedanno.gene_id                                                   \nENSG00000278791.1   chr1  632325  632413     89  ENSG00000278791.1   \n\n                   loadedanno.type  exonlen  \nloadedanno.gene_id                           \nENSG00000278791.1             gene     89.0  ",
      "text/html": "<div>\n<style scoped>\n    .dataframe tbody tr th:only-of-type {\n        vertical-align: middle;\n    }\n\n    .dataframe tbody tr th {\n        vertical-align: top;\n    }\n\n    .dataframe thead th {\n        text-align: right;\n    }\n</style>\n<table border=\"1\" class=\"dataframe\">\n  <thead>\n    <tr style=\"text-align: right;\">\n      <th></th>\n      <th>chr</th>\n      <th>start</th>\n      <th>end</th>\n      <th>width</th>\n      <th>loadedanno.gene_id</th>\n      <th>loadedanno.type</th>\n      <th>exonlen</th>\n    </tr>\n    <tr>\n      <th>loadedanno.gene_id</th>\n      <th></th>\n      <th></th>\n      <th></th>\n      <th></th>\n      <th></th>\n      <th></th>\n      <th></th>\n    </tr>\n  </thead>\n  <tbody>\n    <tr>\n      <td>ENSG00000278791.1</td>\n      <td>chr1</td>\n      <td>632325</td>\n      <td>632413</td>\n      <td>89</td>\n      <td>ENSG00000278791.1</td>\n      <td>gene</td>\n      <td>89.0</td>\n    </tr>\n  </tbody>\n</table>\n</div>"
     },
     "metadata": {},
     "output_type": "execute_result",
     "execution_count": 9
    }
   ],
   "source": [
    "#expressionInThis['ENSG00000278791.1']\n",
    "gene_anno[gene_anno['loadedanno.gene_id']=='ENSG00000278791.1']\n"
   ],
   "metadata": {
    "collapsed": false,
    "pycharm": {
     "name": "#%%\n",
     "is_executing": false
    }
   }
  },
  {
   "cell_type": "code",
   "execution_count": 5,
   "outputs": [
    {
     "data": {
      "text/plain": "    ENSG00000000003.13  ENSG00000000005.5  ENSG00000000419.11  \\\n0            55.437429           0.177544          172.758012   \n1            62.171070         190.531779           36.640151   \n2            73.717541         100.017024           40.147320   \n3            28.174261           2.405006           29.630780   \n4            44.389335           0.575517           79.002988   \n..                 ...                ...                 ...   \n84           35.055664           0.071687           53.022276   \n85           53.175926           1.439895           44.348223   \n86           30.350941           1.519423           16.941555   \n87           84.798166           0.078802           42.772945   \n88           18.472315           0.236856           85.986647   \n\n    ENSG00000000457.12  ENSG00000000460.15  ENSG00000000938.11  \\\n0            13.193387           10.398581            4.536391   \n1            12.233092            2.102397            6.559576   \n2            11.045569            2.245857           10.366928   \n3            13.382038            6.421916            2.057191   \n4            18.025519            8.637211            3.000391   \n..                 ...                 ...                 ...   \n84           14.036782            7.645043           11.356211   \n85           13.837313            3.434417            5.291872   \n86            5.582371            1.088974            3.398594   \n87           24.350639            7.543186            4.331992   \n88           29.069963           11.407545            2.811968   \n\n    ENSG00000000971.14  ENSG00000001036.12  ENSG00000001084.9  \\\n0            11.722076          174.036578          17.890193   \n1            97.180674          117.694952          17.792876   \n2           117.048266          152.419334          28.327168   \n3            23.100018           41.021370          25.728817   \n4            11.352788          109.200490          21.961880   \n..                 ...                 ...                ...   \n84           40.816632          231.349229          27.685711   \n85           36.898681          116.479679          14.818853   \n86           10.839602          205.024994           5.130714   \n87           23.636946          130.704869          12.186262   \n88           18.612591          254.200303          34.702964   \n\n    ENSG00000001167.13  ...  ENSG00000281902.1  ENSG00000281903.1  \\\n0            83.474958  ...           2.783007           0.746083   \n1            58.680436  ...           0.000000           0.741694   \n2            51.060737  ...           1.580410           0.726316   \n3            46.580448  ...           0.000000           0.779178   \n4            80.862888  ...           1.503537           0.000000   \n..                 ...  ...                ...                ...   \n84           69.553206  ...           2.247375           0.172139   \n85           58.515423  ...           0.000000           0.576264   \n86           54.445392  ...           2.646329           0.000000   \n87           95.828928  ...           0.000000           0.725368   \n88          104.072730  ...           0.000000           3.823306   \n\n    ENSG00000281905.1  ENSG00000281906.1  ENSG00000281909.1  \\\n0            0.000000                0.0           0.660002   \n1            0.000000                0.0           0.000000   \n2            0.000000                0.0           0.000000   \n3            6.398608                0.0           0.000000   \n4            0.000000                0.0           0.000000   \n..                ...                ...                ...   \n84           0.000000                0.0           0.000000   \n85           0.000000                0.0           0.475791   \n86           0.000000                0.0           0.000000   \n87           0.000000                0.0           0.000000   \n88           0.000000                0.0           0.391327   \n\n    ENSG00000281910.1  ENSG00000281912.1  ENSG00000281918.1  \\\n0            0.000000           7.323703           0.000000   \n1            0.000000           6.212801           0.000000   \n2            0.000000           3.992615           0.000000   \n3           38.015260           1.511718           0.692668   \n4            0.000000          21.102280           0.000000   \n..                ...                ...                ...   \n84           0.000000           3.706198           0.433577   \n85           0.000000           7.919422           0.580588   \n86           2.334996           5.571218          19.400737   \n87           0.000000           3.900719           0.000000   \n88           1.091975           3.300191           0.000000   \n\n    ENSG00000281920.1  ENSG00000281921.1  \n0            4.264285                0.0  \n1            1.561812                0.0  \n2            0.254905                0.0  \n3            2.026799                0.0  \n4            0.485012                0.0  \n..                ...                ...  \n84           0.724960                0.0  \n85           0.728076                0.0  \n86           1.707309                0.0  \n87           0.398461                0.0  \n88          13.373757                0.0  \n\n[89 rows x 45334 columns]",
      "text/html": "<div>\n<style scoped>\n    .dataframe tbody tr th:only-of-type {\n        vertical-align: middle;\n    }\n\n    .dataframe tbody tr th {\n        vertical-align: top;\n    }\n\n    .dataframe thead th {\n        text-align: right;\n    }\n</style>\n<table border=\"1\" class=\"dataframe\">\n  <thead>\n    <tr style=\"text-align: right;\">\n      <th></th>\n      <th>ENSG00000000003.13</th>\n      <th>ENSG00000000005.5</th>\n      <th>ENSG00000000419.11</th>\n      <th>ENSG00000000457.12</th>\n      <th>ENSG00000000460.15</th>\n      <th>ENSG00000000938.11</th>\n      <th>ENSG00000000971.14</th>\n      <th>ENSG00000001036.12</th>\n      <th>ENSG00000001084.9</th>\n      <th>ENSG00000001167.13</th>\n      <th>...</th>\n      <th>ENSG00000281902.1</th>\n      <th>ENSG00000281903.1</th>\n      <th>ENSG00000281905.1</th>\n      <th>ENSG00000281906.1</th>\n      <th>ENSG00000281909.1</th>\n      <th>ENSG00000281910.1</th>\n      <th>ENSG00000281912.1</th>\n      <th>ENSG00000281918.1</th>\n      <th>ENSG00000281920.1</th>\n      <th>ENSG00000281921.1</th>\n    </tr>\n  </thead>\n  <tbody>\n    <tr>\n      <td>0</td>\n      <td>55.437429</td>\n      <td>0.177544</td>\n      <td>172.758012</td>\n      <td>13.193387</td>\n      <td>10.398581</td>\n      <td>4.536391</td>\n      <td>11.722076</td>\n      <td>174.036578</td>\n      <td>17.890193</td>\n      <td>83.474958</td>\n      <td>...</td>\n      <td>2.783007</td>\n      <td>0.746083</td>\n      <td>0.000000</td>\n      <td>0.0</td>\n      <td>0.660002</td>\n      <td>0.000000</td>\n      <td>7.323703</td>\n      <td>0.000000</td>\n      <td>4.264285</td>\n      <td>0.0</td>\n    </tr>\n    <tr>\n      <td>1</td>\n      <td>62.171070</td>\n      <td>190.531779</td>\n      <td>36.640151</td>\n      <td>12.233092</td>\n      <td>2.102397</td>\n      <td>6.559576</td>\n      <td>97.180674</td>\n      <td>117.694952</td>\n      <td>17.792876</td>\n      <td>58.680436</td>\n      <td>...</td>\n      <td>0.000000</td>\n      <td>0.741694</td>\n      <td>0.000000</td>\n      <td>0.0</td>\n      <td>0.000000</td>\n      <td>0.000000</td>\n      <td>6.212801</td>\n      <td>0.000000</td>\n      <td>1.561812</td>\n      <td>0.0</td>\n    </tr>\n    <tr>\n      <td>2</td>\n      <td>73.717541</td>\n      <td>100.017024</td>\n      <td>40.147320</td>\n      <td>11.045569</td>\n      <td>2.245857</td>\n      <td>10.366928</td>\n      <td>117.048266</td>\n      <td>152.419334</td>\n      <td>28.327168</td>\n      <td>51.060737</td>\n      <td>...</td>\n      <td>1.580410</td>\n      <td>0.726316</td>\n      <td>0.000000</td>\n      <td>0.0</td>\n      <td>0.000000</td>\n      <td>0.000000</td>\n      <td>3.992615</td>\n      <td>0.000000</td>\n      <td>0.254905</td>\n      <td>0.0</td>\n    </tr>\n    <tr>\n      <td>3</td>\n      <td>28.174261</td>\n      <td>2.405006</td>\n      <td>29.630780</td>\n      <td>13.382038</td>\n      <td>6.421916</td>\n      <td>2.057191</td>\n      <td>23.100018</td>\n      <td>41.021370</td>\n      <td>25.728817</td>\n      <td>46.580448</td>\n      <td>...</td>\n      <td>0.000000</td>\n      <td>0.779178</td>\n      <td>6.398608</td>\n      <td>0.0</td>\n      <td>0.000000</td>\n      <td>38.015260</td>\n      <td>1.511718</td>\n      <td>0.692668</td>\n      <td>2.026799</td>\n      <td>0.0</td>\n    </tr>\n    <tr>\n      <td>4</td>\n      <td>44.389335</td>\n      <td>0.575517</td>\n      <td>79.002988</td>\n      <td>18.025519</td>\n      <td>8.637211</td>\n      <td>3.000391</td>\n      <td>11.352788</td>\n      <td>109.200490</td>\n      <td>21.961880</td>\n      <td>80.862888</td>\n      <td>...</td>\n      <td>1.503537</td>\n      <td>0.000000</td>\n      <td>0.000000</td>\n      <td>0.0</td>\n      <td>0.000000</td>\n      <td>0.000000</td>\n      <td>21.102280</td>\n      <td>0.000000</td>\n      <td>0.485012</td>\n      <td>0.0</td>\n    </tr>\n    <tr>\n      <td>...</td>\n      <td>...</td>\n      <td>...</td>\n      <td>...</td>\n      <td>...</td>\n      <td>...</td>\n      <td>...</td>\n      <td>...</td>\n      <td>...</td>\n      <td>...</td>\n      <td>...</td>\n      <td>...</td>\n      <td>...</td>\n      <td>...</td>\n      <td>...</td>\n      <td>...</td>\n      <td>...</td>\n      <td>...</td>\n      <td>...</td>\n      <td>...</td>\n      <td>...</td>\n      <td>...</td>\n    </tr>\n    <tr>\n      <td>84</td>\n      <td>35.055664</td>\n      <td>0.071687</td>\n      <td>53.022276</td>\n      <td>14.036782</td>\n      <td>7.645043</td>\n      <td>11.356211</td>\n      <td>40.816632</td>\n      <td>231.349229</td>\n      <td>27.685711</td>\n      <td>69.553206</td>\n      <td>...</td>\n      <td>2.247375</td>\n      <td>0.172139</td>\n      <td>0.000000</td>\n      <td>0.0</td>\n      <td>0.000000</td>\n      <td>0.000000</td>\n      <td>3.706198</td>\n      <td>0.433577</td>\n      <td>0.724960</td>\n      <td>0.0</td>\n    </tr>\n    <tr>\n      <td>85</td>\n      <td>53.175926</td>\n      <td>1.439895</td>\n      <td>44.348223</td>\n      <td>13.837313</td>\n      <td>3.434417</td>\n      <td>5.291872</td>\n      <td>36.898681</td>\n      <td>116.479679</td>\n      <td>14.818853</td>\n      <td>58.515423</td>\n      <td>...</td>\n      <td>0.000000</td>\n      <td>0.576264</td>\n      <td>0.000000</td>\n      <td>0.0</td>\n      <td>0.475791</td>\n      <td>0.000000</td>\n      <td>7.919422</td>\n      <td>0.580588</td>\n      <td>0.728076</td>\n      <td>0.0</td>\n    </tr>\n    <tr>\n      <td>86</td>\n      <td>30.350941</td>\n      <td>1.519423</td>\n      <td>16.941555</td>\n      <td>5.582371</td>\n      <td>1.088974</td>\n      <td>3.398594</td>\n      <td>10.839602</td>\n      <td>205.024994</td>\n      <td>5.130714</td>\n      <td>54.445392</td>\n      <td>...</td>\n      <td>2.646329</td>\n      <td>0.000000</td>\n      <td>0.000000</td>\n      <td>0.0</td>\n      <td>0.000000</td>\n      <td>2.334996</td>\n      <td>5.571218</td>\n      <td>19.400737</td>\n      <td>1.707309</td>\n      <td>0.0</td>\n    </tr>\n    <tr>\n      <td>87</td>\n      <td>84.798166</td>\n      <td>0.078802</td>\n      <td>42.772945</td>\n      <td>24.350639</td>\n      <td>7.543186</td>\n      <td>4.331992</td>\n      <td>23.636946</td>\n      <td>130.704869</td>\n      <td>12.186262</td>\n      <td>95.828928</td>\n      <td>...</td>\n      <td>0.000000</td>\n      <td>0.725368</td>\n      <td>0.000000</td>\n      <td>0.0</td>\n      <td>0.000000</td>\n      <td>0.000000</td>\n      <td>3.900719</td>\n      <td>0.000000</td>\n      <td>0.398461</td>\n      <td>0.0</td>\n    </tr>\n    <tr>\n      <td>88</td>\n      <td>18.472315</td>\n      <td>0.236856</td>\n      <td>85.986647</td>\n      <td>29.069963</td>\n      <td>11.407545</td>\n      <td>2.811968</td>\n      <td>18.612591</td>\n      <td>254.200303</td>\n      <td>34.702964</td>\n      <td>104.072730</td>\n      <td>...</td>\n      <td>0.000000</td>\n      <td>3.823306</td>\n      <td>0.000000</td>\n      <td>0.0</td>\n      <td>0.391327</td>\n      <td>1.091975</td>\n      <td>3.300191</td>\n      <td>0.000000</td>\n      <td>13.373757</td>\n      <td>0.0</td>\n    </tr>\n  </tbody>\n</table>\n<p>89 rows × 45334 columns</p>\n</div>"
     },
     "metadata": {},
     "output_type": "execute_result",
     "execution_count": 5
    }
   ],
   "source": [
    "\n"
   ],
   "metadata": {
    "collapsed": false,
    "pycharm": {
     "name": "#%%\n",
     "is_executing": false
    }
   }
  }
 ],
 "metadata": {
  "language_info": {
   "codemirror_mode": {
    "name": "ipython",
    "version": 2
   },
   "file_extension": ".py",
   "mimetype": "text/x-python",
   "name": "python",
   "nbconvert_exporter": "python",
   "pygments_lexer": "ipython2",
   "version": "2.7.6"
  },
  "kernelspec": {
   "name": "python3",
   "language": "python",
   "display_name": "Python 3"
  },
  "pycharm": {
   "stem_cell": {
    "cell_type": "raw",
    "source": [],
    "metadata": {
     "collapsed": false
    }
   }
  }
 },
 "nbformat": 4,
 "nbformat_minor": 0
}