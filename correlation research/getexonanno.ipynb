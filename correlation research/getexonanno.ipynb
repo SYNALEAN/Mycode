{
 "cells": [
  {
   "cell_type": "code",
   "execution_count": 1,
   "outputs": [
    {
     "data": {
      "text/plain": "    chr  start    end  width loadedanno.gene_id loadedanno.type\n0  chr1  11869  14409   2541  ENSG00000223972.5            gene\n1  chr1  11869  14409   2541  ENSG00000223972.5      transcript\n2  chr1  11869  12227    359  ENSG00000223972.5            exon\n3  chr1  12613  12721    109  ENSG00000223972.5            exon\n4  chr1  13221  14409   1189  ENSG00000223972.5            exon",
      "text/html": "<div>\n<style scoped>\n    .dataframe tbody tr th:only-of-type {\n        vertical-align: middle;\n    }\n\n    .dataframe tbody tr th {\n        vertical-align: top;\n    }\n\n    .dataframe thead th {\n        text-align: right;\n    }\n</style>\n<table border=\"1\" class=\"dataframe\">\n  <thead>\n    <tr style=\"text-align: right;\">\n      <th></th>\n      <th>chr</th>\n      <th>start</th>\n      <th>end</th>\n      <th>width</th>\n      <th>loadedanno.gene_id</th>\n      <th>loadedanno.type</th>\n    </tr>\n  </thead>\n  <tbody>\n    <tr>\n      <td>0</td>\n      <td>chr1</td>\n      <td>11869</td>\n      <td>14409</td>\n      <td>2541</td>\n      <td>ENSG00000223972.5</td>\n      <td>gene</td>\n    </tr>\n    <tr>\n      <td>1</td>\n      <td>chr1</td>\n      <td>11869</td>\n      <td>14409</td>\n      <td>2541</td>\n      <td>ENSG00000223972.5</td>\n      <td>transcript</td>\n    </tr>\n    <tr>\n      <td>2</td>\n      <td>chr1</td>\n      <td>11869</td>\n      <td>12227</td>\n      <td>359</td>\n      <td>ENSG00000223972.5</td>\n      <td>exon</td>\n    </tr>\n    <tr>\n      <td>3</td>\n      <td>chr1</td>\n      <td>12613</td>\n      <td>12721</td>\n      <td>109</td>\n      <td>ENSG00000223972.5</td>\n      <td>exon</td>\n    </tr>\n    <tr>\n      <td>4</td>\n      <td>chr1</td>\n      <td>13221</td>\n      <td>14409</td>\n      <td>1189</td>\n      <td>ENSG00000223972.5</td>\n      <td>exon</td>\n    </tr>\n  </tbody>\n</table>\n</div>"
     },
     "metadata": {},
     "output_type": "execute_result",
     "execution_count": 1
    }
   ],
   "source": [
    "import pandas as pd\n",
    "path1 = 'E:\\课题组相关\\科创II\\id_mapping.csv'\n",
    "df = pd.read_csv(path1, header=0)  \n",
    "df.head()"
   ],
   "metadata": {
    "collapsed": false,
    "pycharm": {
     "name": "#%%\n",
     "is_executing": false
    }
   }
  },
  {
   "cell_type": "code",
   "execution_count": 12,
   "outputs": [
    {
     "data": {
      "text/plain": "        chr     start       end  width loadedanno.gene_id loadedanno.type\n0      chr1     11869     14409   2541  ENSG00000223972.5            gene\n1      chr1     14404     29570  15167  ENSG00000227232.5            gene\n2      chr1     17369     17436     68  ENSG00000278267.1            gene\n3      chr1     29554     31109   1556  ENSG00000243485.3            gene\n4      chr1     30366     30503    138  ENSG00000274890.1            gene\n...     ...       ...       ...    ...                ...             ...\n60441  chrY  26549425  26549743    319  ENSG00000224240.1            gene\n60442  chrY  26586642  26591601   4960  ENSG00000227629.1            gene\n60443  chrY  26594851  26634652  39802  ENSG00000237917.1            gene\n60444  chrY  26626520  26627159    640  ENSG00000231514.1            gene\n60445  chrY  56855244  56855488    245  ENSG00000235857.1            gene\n\n[60446 rows x 6 columns]",
      "text/html": "<div>\n<style scoped>\n    .dataframe tbody tr th:only-of-type {\n        vertical-align: middle;\n    }\n\n    .dataframe tbody tr th {\n        vertical-align: top;\n    }\n\n    .dataframe thead th {\n        text-align: right;\n    }\n</style>\n<table border=\"1\" class=\"dataframe\">\n  <thead>\n    <tr style=\"text-align: right;\">\n      <th></th>\n      <th>chr</th>\n      <th>start</th>\n      <th>end</th>\n      <th>width</th>\n      <th>loadedanno.gene_id</th>\n      <th>loadedanno.type</th>\n    </tr>\n  </thead>\n  <tbody>\n    <tr>\n      <td>0</td>\n      <td>chr1</td>\n      <td>11869</td>\n      <td>14409</td>\n      <td>2541</td>\n      <td>ENSG00000223972.5</td>\n      <td>gene</td>\n    </tr>\n    <tr>\n      <td>1</td>\n      <td>chr1</td>\n      <td>14404</td>\n      <td>29570</td>\n      <td>15167</td>\n      <td>ENSG00000227232.5</td>\n      <td>gene</td>\n    </tr>\n    <tr>\n      <td>2</td>\n      <td>chr1</td>\n      <td>17369</td>\n      <td>17436</td>\n      <td>68</td>\n      <td>ENSG00000278267.1</td>\n      <td>gene</td>\n    </tr>\n    <tr>\n      <td>3</td>\n      <td>chr1</td>\n      <td>29554</td>\n      <td>31109</td>\n      <td>1556</td>\n      <td>ENSG00000243485.3</td>\n      <td>gene</td>\n    </tr>\n    <tr>\n      <td>4</td>\n      <td>chr1</td>\n      <td>30366</td>\n      <td>30503</td>\n      <td>138</td>\n      <td>ENSG00000274890.1</td>\n      <td>gene</td>\n    </tr>\n    <tr>\n      <td>...</td>\n      <td>...</td>\n      <td>...</td>\n      <td>...</td>\n      <td>...</td>\n      <td>...</td>\n      <td>...</td>\n    </tr>\n    <tr>\n      <td>60441</td>\n      <td>chrY</td>\n      <td>26549425</td>\n      <td>26549743</td>\n      <td>319</td>\n      <td>ENSG00000224240.1</td>\n      <td>gene</td>\n    </tr>\n    <tr>\n      <td>60442</td>\n      <td>chrY</td>\n      <td>26586642</td>\n      <td>26591601</td>\n      <td>4960</td>\n      <td>ENSG00000227629.1</td>\n      <td>gene</td>\n    </tr>\n    <tr>\n      <td>60443</td>\n      <td>chrY</td>\n      <td>26594851</td>\n      <td>26634652</td>\n      <td>39802</td>\n      <td>ENSG00000237917.1</td>\n      <td>gene</td>\n    </tr>\n    <tr>\n      <td>60444</td>\n      <td>chrY</td>\n      <td>26626520</td>\n      <td>26627159</td>\n      <td>640</td>\n      <td>ENSG00000231514.1</td>\n      <td>gene</td>\n    </tr>\n    <tr>\n      <td>60445</td>\n      <td>chrY</td>\n      <td>56855244</td>\n      <td>56855488</td>\n      <td>245</td>\n      <td>ENSG00000235857.1</td>\n      <td>gene</td>\n    </tr>\n  </tbody>\n</table>\n<p>60446 rows × 6 columns</p>\n</div>"
     },
     "metadata": {},
     "output_type": "execute_result",
     "execution_count": 12
    }
   ],
   "source": [
    "path2 = 'E:\\课题组相关\\科创II\\onlygene.csv'\n",
    "df2 = pd.read_csv(path2, header=0)\n",
    "df2"
   ],
   "metadata": {
    "collapsed": false,
    "pycharm": {
     "name": "#%%\n",
     "is_executing": false
    }
   }
  },
  {
   "cell_type": "code",
   "execution_count": 3,
   "outputs": [
    {
     "data": {
      "text/plain": "'gene'"
     },
     "metadata": {},
     "output_type": "execute_result",
     "execution_count": 3
    }
   ],
   "source": [
    "df['loadedanno.type'].get(0)"
   ],
   "metadata": {
    "collapsed": false,
    "pycharm": {
     "name": "#%%\n",
     "is_executing": false
    }
   }
  },
  {
   "cell_type": "code",
   "execution_count": 4,
   "outputs": [],
   "source": [
    "#df2[0:1]['loadedanno.gene_id'] == 'ENSG00000223972.5'  结果是true   并不专业的示范\n",
    "genelines = df[df['loadedanno.type']=='gene'].index.tolist()\n",
    "#genelines"
   ],
   "metadata": {
    "collapsed": false,
    "pycharm": {
     "name": "#%%\n",
     "is_executing": false
    }
   }
  },
  {
   "cell_type": "code",
   "execution_count": 5,
   "outputs": [],
   "source": [
    "count = 0\n",
    "l1 = []\n",
    "l2 = []\n",
    "for index in genelines:\n",
    "    exonlenth =0\n",
    "    gene_id = df['loadedanno.gene_id'].get(count)\n",
    "    while count<index:\n",
    "        if df['loadedanno.type'].get(count)=='exon':\n",
    "            exonlenth = exonlenth+df['width'].get(count)\n",
    "        count = count+1\n",
    "    #print('id '+gene_id+' len '+str(exonlenth))\n",
    "    l1.append(gene_id)\n",
    "    l2.append(exonlenth)\n"
   ],
   "metadata": {
    "collapsed": false,
    "pycharm": {
     "name": "#%%\n",
     "is_executing": false
    }
   }
  },
  {
   "cell_type": "code",
   "execution_count": 6,
   "outputs": [],
   "source": [
    "l1 = l1[1:]\n",
    "l2 = l2[1:]"
   ],
   "metadata": {
    "collapsed": false,
    "pycharm": {
     "name": "#%%\n",
     "is_executing": false
    }
   }
  },
  {
   "cell_type": "code",
   "execution_count": 7,
   "outputs": [
    {
     "data": {
      "text/plain": "  loadedanno.gene_id  exonlen\n0  ENSG00000223972.5     2289\n1  ENSG00000227232.5     1351\n2  ENSG00000278267.1       68\n3  ENSG00000243485.3     1247\n4  ENSG00000274890.1      138",
      "text/html": "<div>\n<style scoped>\n    .dataframe tbody tr th:only-of-type {\n        vertical-align: middle;\n    }\n\n    .dataframe tbody tr th {\n        vertical-align: top;\n    }\n\n    .dataframe thead th {\n        text-align: right;\n    }\n</style>\n<table border=\"1\" class=\"dataframe\">\n  <thead>\n    <tr style=\"text-align: right;\">\n      <th></th>\n      <th>loadedanno.gene_id</th>\n      <th>exonlen</th>\n    </tr>\n  </thead>\n  <tbody>\n    <tr>\n      <td>0</td>\n      <td>ENSG00000223972.5</td>\n      <td>2289</td>\n    </tr>\n    <tr>\n      <td>1</td>\n      <td>ENSG00000227232.5</td>\n      <td>1351</td>\n    </tr>\n    <tr>\n      <td>2</td>\n      <td>ENSG00000278267.1</td>\n      <td>68</td>\n    </tr>\n    <tr>\n      <td>3</td>\n      <td>ENSG00000243485.3</td>\n      <td>1247</td>\n    </tr>\n    <tr>\n      <td>4</td>\n      <td>ENSG00000274890.1</td>\n      <td>138</td>\n    </tr>\n  </tbody>\n</table>\n</div>"
     },
     "metadata": {},
     "output_type": "execute_result",
     "execution_count": 7
    }
   ],
   "source": [
    "df_exon = pd.DataFrame({'loadedanno.gene_id': l1, 'exonlen': l2})\n",
    "df_exon.head()"
   ],
   "metadata": {
    "collapsed": false,
    "pycharm": {
     "name": "#%%\n",
     "is_executing": false
    }
   }
  },
  {
   "cell_type": "code",
   "execution_count": 11,
   "outputs": [],
   "source": [
    "result = pd.merge(df2, df_exon, how='left', on = ['loadedanno.gene_id'])\n",
    "result\n",
    "result.to_csv('geneid_anno.csv',index=0)"
   ],
   "metadata": {
    "collapsed": false,
    "pycharm": {
     "name": "#%%\n",
     "is_executing": false
    }
   }
  },
  {
   "cell_type": "code",
   "execution_count": 9,
   "outputs": [
    {
     "data": {
      "text/plain": "1"
     },
     "metadata": {},
     "output_type": "execute_result",
     "execution_count": 9
    }
   ],
   "source": [
    "result['exonlen'].isnull().sum()"
   ],
   "metadata": {
    "collapsed": false,
    "pycharm": {
     "name": "#%%\n",
     "is_executing": false
    }
   }
  },
  {
   "cell_type": "code",
   "execution_count": 3,
   "outputs": [
    {
     "data": {
      "text/plain": "                1                  2                   3      \\\n0  ENSG00000000003.13  ENSG00000000005.5  ENSG00000000419.11   \n1                4535               1610                1207   \n\n                4                   5                   6      \\\n0  ENSG00000000457.12  ENSG00000000460.15  ENSG00000000938.11   \n1                6883                5967                3474   \n\n                7                   8                  9      \\\n0  ENSG00000000971.14  ENSG00000001036.12  ENSG00000001084.9   \n1                8145                2793               8463   \n\n                10     ...              60474              60475  \\\n0  ENSG00000001167.13  ...  ENSGR0000263980.4  ENSGR0000264510.4   \n1                3811  ...                 75                 74   \n\n               60476              60477              60478              60479  \\\n0  ENSGR0000264819.4  ENSGR0000265658.4  ENSGR0000270726.4  ENSGR0000275287.3   \n1                 74                 75                773                290   \n\n               60480              60481              60482              60483  \n0  ENSGR0000276543.3  ENSGR0000277120.3  ENSGR0000280767.1  ENSGR0000281849.1  \n1                 68                 64                515                484  \n\n[2 rows x 60483 columns]",
      "text/html": "<div>\n<style scoped>\n    .dataframe tbody tr th:only-of-type {\n        vertical-align: middle;\n    }\n\n    .dataframe tbody tr th {\n        vertical-align: top;\n    }\n\n    .dataframe thead th {\n        text-align: right;\n    }\n</style>\n<table border=\"1\" class=\"dataframe\">\n  <thead>\n    <tr style=\"text-align: right;\">\n      <th></th>\n      <th>1</th>\n      <th>2</th>\n      <th>3</th>\n      <th>4</th>\n      <th>5</th>\n      <th>6</th>\n      <th>7</th>\n      <th>8</th>\n      <th>9</th>\n      <th>10</th>\n      <th>...</th>\n      <th>60474</th>\n      <th>60475</th>\n      <th>60476</th>\n      <th>60477</th>\n      <th>60478</th>\n      <th>60479</th>\n      <th>60480</th>\n      <th>60481</th>\n      <th>60482</th>\n      <th>60483</th>\n    </tr>\n  </thead>\n  <tbody>\n    <tr>\n      <td>0</td>\n      <td>ENSG00000000003.13</td>\n      <td>ENSG00000000005.5</td>\n      <td>ENSG00000000419.11</td>\n      <td>ENSG00000000457.12</td>\n      <td>ENSG00000000460.15</td>\n      <td>ENSG00000000938.11</td>\n      <td>ENSG00000000971.14</td>\n      <td>ENSG00000001036.12</td>\n      <td>ENSG00000001084.9</td>\n      <td>ENSG00000001167.13</td>\n      <td>...</td>\n      <td>ENSGR0000263980.4</td>\n      <td>ENSGR0000264510.4</td>\n      <td>ENSGR0000264819.4</td>\n      <td>ENSGR0000265658.4</td>\n      <td>ENSGR0000270726.4</td>\n      <td>ENSGR0000275287.3</td>\n      <td>ENSGR0000276543.3</td>\n      <td>ENSGR0000277120.3</td>\n      <td>ENSGR0000280767.1</td>\n      <td>ENSGR0000281849.1</td>\n    </tr>\n    <tr>\n      <td>1</td>\n      <td>4535</td>\n      <td>1610</td>\n      <td>1207</td>\n      <td>6883</td>\n      <td>5967</td>\n      <td>3474</td>\n      <td>8145</td>\n      <td>2793</td>\n      <td>8463</td>\n      <td>3811</td>\n      <td>...</td>\n      <td>75</td>\n      <td>74</td>\n      <td>74</td>\n      <td>75</td>\n      <td>773</td>\n      <td>290</td>\n      <td>68</td>\n      <td>64</td>\n      <td>515</td>\n      <td>484</td>\n    </tr>\n  </tbody>\n</table>\n<p>2 rows × 60483 columns</p>\n</div>"
     },
     "metadata": {},
     "output_type": "execute_result",
     "execution_count": 3
    }
   ],
   "source": [
    "import pandas as pd\n",
    "exonlen = pd.read_csv('exonlength.csv', header=None)  \n",
    "del exonlen[0]\n",
    "exonlen"
   ],
   "metadata": {
    "collapsed": false,
    "pycharm": {
     "name": "#%%\n",
     "is_executing": false
    }
   }
  },
  {
   "cell_type": "code",
   "execution_count": 4,
   "outputs": [
    {
     "data": {
      "text/plain": "                        0     1\n1      ENSG00000000003.13  4535\n2       ENSG00000000005.5  1610\n3      ENSG00000000419.11  1207\n4      ENSG00000000457.12  6883\n5      ENSG00000000460.15  5967\n...                   ...   ...\n60479   ENSGR0000275287.3   290\n60480   ENSGR0000276543.3    68\n60481   ENSGR0000277120.3    64\n60482   ENSGR0000280767.1   515\n60483   ENSGR0000281849.1   484\n\n[60483 rows x 2 columns]",
      "text/html": "<div>\n<style scoped>\n    .dataframe tbody tr th:only-of-type {\n        vertical-align: middle;\n    }\n\n    .dataframe tbody tr th {\n        vertical-align: top;\n    }\n\n    .dataframe thead th {\n        text-align: right;\n    }\n</style>\n<table border=\"1\" class=\"dataframe\">\n  <thead>\n    <tr style=\"text-align: right;\">\n      <th></th>\n      <th>0</th>\n      <th>1</th>\n    </tr>\n  </thead>\n  <tbody>\n    <tr>\n      <td>1</td>\n      <td>ENSG00000000003.13</td>\n      <td>4535</td>\n    </tr>\n    <tr>\n      <td>2</td>\n      <td>ENSG00000000005.5</td>\n      <td>1610</td>\n    </tr>\n    <tr>\n      <td>3</td>\n      <td>ENSG00000000419.11</td>\n      <td>1207</td>\n    </tr>\n    <tr>\n      <td>4</td>\n      <td>ENSG00000000457.12</td>\n      <td>6883</td>\n    </tr>\n    <tr>\n      <td>5</td>\n      <td>ENSG00000000460.15</td>\n      <td>5967</td>\n    </tr>\n    <tr>\n      <td>...</td>\n      <td>...</td>\n      <td>...</td>\n    </tr>\n    <tr>\n      <td>60479</td>\n      <td>ENSGR0000275287.3</td>\n      <td>290</td>\n    </tr>\n    <tr>\n      <td>60480</td>\n      <td>ENSGR0000276543.3</td>\n      <td>68</td>\n    </tr>\n    <tr>\n      <td>60481</td>\n      <td>ENSGR0000277120.3</td>\n      <td>64</td>\n    </tr>\n    <tr>\n      <td>60482</td>\n      <td>ENSGR0000280767.1</td>\n      <td>515</td>\n    </tr>\n    <tr>\n      <td>60483</td>\n      <td>ENSGR0000281849.1</td>\n      <td>484</td>\n    </tr>\n  </tbody>\n</table>\n<p>60483 rows × 2 columns</p>\n</div>"
     },
     "metadata": {},
     "output_type": "execute_result",
     "execution_count": 4
    }
   ],
   "source": [
    "exonlenT = pd.DataFrame(exonlen.values.T, index=exonlen.columns, columns=exonlen.index)\n",
    "exonlenT"
   ],
   "metadata": {
    "collapsed": false,
    "pycharm": {
     "name": "#%%\n",
     "is_executing": false
    }
   }
  },
  {
   "cell_type": "code",
   "execution_count": 9,
   "outputs": [
    {
     "data": {
      "text/plain": "                       0    1\n55620  ENSG00000274890.1  138",
      "text/html": "<div>\n<style scoped>\n    .dataframe tbody tr th:only-of-type {\n        vertical-align: middle;\n    }\n\n    .dataframe tbody tr th {\n        vertical-align: top;\n    }\n\n    .dataframe thead th {\n        text-align: right;\n    }\n</style>\n<table border=\"1\" class=\"dataframe\">\n  <thead>\n    <tr style=\"text-align: right;\">\n      <th></th>\n      <th>0</th>\n      <th>1</th>\n    </tr>\n  </thead>\n  <tbody>\n    <tr>\n      <td>55620</td>\n      <td>ENSG00000274890.1</td>\n      <td>138</td>\n    </tr>\n  </tbody>\n</table>\n</div>"
     },
     "metadata": {},
     "output_type": "execute_result",
     "execution_count": 9
    }
   ],
   "source": [
    "exonlenT[exonlenT[0]=='ENSG00000274890.1']\n",
    "\n"
   ],
   "metadata": {
    "collapsed": false,
    "pycharm": {
     "name": "#%%\n",
     "is_executing": false
    }
   }
  },
  {
   "cell_type": "code",
   "execution_count": 10,
   "outputs": [],
   "source": [
    "exonlenT.to_csv('exonlen.csv',index=0)\n",
    "\n"
   ],
   "metadata": {
    "collapsed": false,
    "pycharm": {
     "name": "#%%\n",
     "is_executing": false
    }
   }
  },
  {
   "cell_type": "code",
   "execution_count": 13,
   "outputs": [
    {
     "data": {
      "text/plain": "        chr     start       end  width loadedanno.gene_id                  0  \\\n0      chr1     11869     14409   2541  ENSG00000223972.5  ENSG00000223972.5   \n1      chr1     14404     29570  15167  ENSG00000227232.5  ENSG00000227232.5   \n2      chr1     17369     17436     68  ENSG00000278267.1  ENSG00000278267.1   \n3      chr1     29554     31109   1556  ENSG00000243485.3  ENSG00000243485.3   \n4      chr1     30366     30503    138  ENSG00000274890.1  ENSG00000274890.1   \n...     ...       ...       ...    ...                ...                ...   \n60441  chrY  26549425  26549743    319  ENSG00000224240.1  ENSG00000224240.1   \n60442  chrY  26586642  26591601   4960  ENSG00000227629.1  ENSG00000227629.1   \n60443  chrY  26594851  26634652  39802  ENSG00000237917.1  ENSG00000237917.1   \n60444  chrY  26626520  26627159    640  ENSG00000231514.1  ENSG00000231514.1   \n60445  chrY  56855244  56855488    245  ENSG00000235857.1  ENSG00000235857.1   \n\n          1  \n0      1735  \n1      1351  \n2        68  \n3      1021  \n4       138  \n...     ...  \n60441   319  \n60442   342  \n60443  2337  \n60444   640  \n60445   245  \n\n[60446 rows x 7 columns]",
      "text/html": "<div>\n<style scoped>\n    .dataframe tbody tr th:only-of-type {\n        vertical-align: middle;\n    }\n\n    .dataframe tbody tr th {\n        vertical-align: top;\n    }\n\n    .dataframe thead th {\n        text-align: right;\n    }\n</style>\n<table border=\"1\" class=\"dataframe\">\n  <thead>\n    <tr style=\"text-align: right;\">\n      <th></th>\n      <th>chr</th>\n      <th>start</th>\n      <th>end</th>\n      <th>width</th>\n      <th>loadedanno.gene_id</th>\n      <th>0</th>\n      <th>1</th>\n    </tr>\n  </thead>\n  <tbody>\n    <tr>\n      <td>0</td>\n      <td>chr1</td>\n      <td>11869</td>\n      <td>14409</td>\n      <td>2541</td>\n      <td>ENSG00000223972.5</td>\n      <td>ENSG00000223972.5</td>\n      <td>1735</td>\n    </tr>\n    <tr>\n      <td>1</td>\n      <td>chr1</td>\n      <td>14404</td>\n      <td>29570</td>\n      <td>15167</td>\n      <td>ENSG00000227232.5</td>\n      <td>ENSG00000227232.5</td>\n      <td>1351</td>\n    </tr>\n    <tr>\n      <td>2</td>\n      <td>chr1</td>\n      <td>17369</td>\n      <td>17436</td>\n      <td>68</td>\n      <td>ENSG00000278267.1</td>\n      <td>ENSG00000278267.1</td>\n      <td>68</td>\n    </tr>\n    <tr>\n      <td>3</td>\n      <td>chr1</td>\n      <td>29554</td>\n      <td>31109</td>\n      <td>1556</td>\n      <td>ENSG00000243485.3</td>\n      <td>ENSG00000243485.3</td>\n      <td>1021</td>\n    </tr>\n    <tr>\n      <td>4</td>\n      <td>chr1</td>\n      <td>30366</td>\n      <td>30503</td>\n      <td>138</td>\n      <td>ENSG00000274890.1</td>\n      <td>ENSG00000274890.1</td>\n      <td>138</td>\n    </tr>\n    <tr>\n      <td>...</td>\n      <td>...</td>\n      <td>...</td>\n      <td>...</td>\n      <td>...</td>\n      <td>...</td>\n      <td>...</td>\n      <td>...</td>\n    </tr>\n    <tr>\n      <td>60441</td>\n      <td>chrY</td>\n      <td>26549425</td>\n      <td>26549743</td>\n      <td>319</td>\n      <td>ENSG00000224240.1</td>\n      <td>ENSG00000224240.1</td>\n      <td>319</td>\n    </tr>\n    <tr>\n      <td>60442</td>\n      <td>chrY</td>\n      <td>26586642</td>\n      <td>26591601</td>\n      <td>4960</td>\n      <td>ENSG00000227629.1</td>\n      <td>ENSG00000227629.1</td>\n      <td>342</td>\n    </tr>\n    <tr>\n      <td>60443</td>\n      <td>chrY</td>\n      <td>26594851</td>\n      <td>26634652</td>\n      <td>39802</td>\n      <td>ENSG00000237917.1</td>\n      <td>ENSG00000237917.1</td>\n      <td>2337</td>\n    </tr>\n    <tr>\n      <td>60444</td>\n      <td>chrY</td>\n      <td>26626520</td>\n      <td>26627159</td>\n      <td>640</td>\n      <td>ENSG00000231514.1</td>\n      <td>ENSG00000231514.1</td>\n      <td>640</td>\n    </tr>\n    <tr>\n      <td>60445</td>\n      <td>chrY</td>\n      <td>56855244</td>\n      <td>56855488</td>\n      <td>245</td>\n      <td>ENSG00000235857.1</td>\n      <td>ENSG00000235857.1</td>\n      <td>245</td>\n    </tr>\n  </tbody>\n</table>\n<p>60446 rows × 7 columns</p>\n</div>"
     },
     "metadata": {},
     "output_type": "execute_result",
     "execution_count": 13
    }
   ],
   "source": [
    "df2 = pd.merge(df2,exonlenT,how='left',left_on='loadedanno.gene_id',right_on=0)\n",
    "del df2['loadedanno.type']\n",
    "\n",
    "df2\n"
   ],
   "metadata": {
    "collapsed": false,
    "pycharm": {
     "name": "#%%\n",
     "is_executing": false
    }
   }
  },
  {
   "cell_type": "code",
   "execution_count": 14,
   "outputs": [],
   "source": [
    "del df2[0]\n",
    "\n",
    "df2.to_csv('geneid_anno_1.csv',index=0)"
   ],
   "metadata": {
    "collapsed": false,
    "pycharm": {
     "name": "#%%\n",
     "is_executing": false
    }
   }
  }
 ],
 "metadata": {
  "language_info": {
   "codemirror_mode": {
    "name": "ipython",
    "version": 2
   },
   "file_extension": ".py",
   "mimetype": "text/x-python",
   "name": "python",
   "nbconvert_exporter": "python",
   "pygments_lexer": "ipython2",
   "version": "2.7.6"
  },
  "kernelspec": {
   "name": "python3",
   "language": "python",
   "display_name": "Python 3"
  },
  "pycharm": {
   "stem_cell": {
    "cell_type": "raw",
    "source": [],
    "metadata": {
     "collapsed": false
    }
   }
  }
 },
 "nbformat": 4,
 "nbformat_minor": 0
}