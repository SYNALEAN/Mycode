{
 "cells": [
  {
   "cell_type": "code",
   "execution_count": 1,
   "metadata": {
    "collapsed": true,
    "pycharm": {
     "is_executing": false
    }
   },
   "outputs": [],
   "source": [
    "import pandas as pd\n",
    "givenData = pd.read_csv('givenDATA.csv',header = 0)\n",
    "myData = pd.read_csv('Allinone.csv',header = 0)\n",
    "myData1 = pd.read_table('Allinone1.csv',sep=',',header = 0)\n",
    "geneAnno = pd.read_csv('geneid_anno_1.csv',header = 0)\n",
    "peakAnno = pd.read_csv('BRCA_index.csv',header = 0)\n",
    "geneName = pd.read_csv('id_name.csv',header = 0)\n",
    "geneName.rename(columns = {'chr':'loadedanno.gene_id'},inplace=True)\n",
    "geneAnno = pd.merge(geneAnno,geneName,how='left',on=['loadedanno.gene_id'])"
   ]
  },
  {
   "cell_type": "markdown",
   "source": [
    "Data Pre-processing and reformat\n",
    "Integrating My Data\n",
    "0. After checking the given data, filter the correlations. \n",
    "1. Exchanging gene's name and ID."
   ],
   "metadata": {
    "collapsed": false,
    "pycharm": {
     "name": "#%% md\n"
    }
   }
  },
  {
   "cell_type": "code",
   "execution_count": 6,
   "outputs": [
    {
     "data": {
      "text/plain": "          index    chr              geneid     peakname   pearson      mean  \\\n0      25025876  chr15   ENSG00000258484.3  BRCA_160393  0.806929  0.006144   \n1      17681298  chr10   ENSG00000182645.5  BRCA_124058  0.845993 -0.004592   \n2      17738879  chr10   ENSG00000223432.1  BRCA_124058  0.778808 -0.006029   \n3      15832336   chr5   ENSG00000247516.4   BRCA_57874  0.676519  0.011784   \n4      17738882  chr10   ENSG00000223432.1  BRCA_124067  0.757826 -0.006029   \n...         ...    ...                 ...          ...       ...       ...   \n41926   4571275   chr8   ENSG00000265266.1  BRCA_105525  0.443252 -0.003207   \n41927   3499495   chr8   ENSG00000272159.1   BRCA_95561  0.533779  0.023737   \n41928  15812145   chr5  ENSG00000170561.11   BRCA_57611  0.594656 -0.004637   \n41929   9269101  chr17   ENSG00000263818.4  BRCA_175440  0.499386  0.001136   \n41930   9274474  chr17  ENSG00000141748.11  BRCA_175492  0.442789 -0.008415   \n\n            var       p_value       q_value  loadedanno.gene_id  \\\n0      0.009467  1.110223e-16  3.311745e-09   ENSG00000258484.3   \n1      0.011063  3.330669e-16  4.967617e-09   ENSG00000182645.5   \n2      0.009699  7.771561e-16  7.727405e-09   ENSG00000223432.1   \n3      0.007085  1.443290e-15  1.076317e-08   ENSG00000247516.4   \n4      0.009699  4.329870e-15  2.583161e-08   ENSG00000223432.1   \n...         ...           ...           ...                 ...   \n41926  0.011363  1.405512e-05  9.999708e-03   ENSG00000265266.1   \n41927  0.014830  1.405514e-05  9.999485e-03   ENSG00000272159.1   \n41928  0.020474  1.405524e-05  9.999316e-03  ENSG00000170561.11   \n41929  0.014152  1.405582e-05  9.999493e-03   ENSG00000263818.4   \n41930  0.011606  1.405635e-05  9.999634e-03  ENSG00000141748.11   \n\n      loadedanno.gene_name  \n0                   SPESP1  \n1                  CCDC172  \n2             RP11-62L18.3  \n3                MIR4458HG  \n4             RP11-62L18.3  \n...                    ...  \n41926           AC022681.1  \n41927        RP11-350N15.6  \n41928                 IRX2  \n41929         CTD-2206N4.4  \n41930                ARL5C  \n\n[41931 rows x 11 columns]",
      "text/html": "<div>\n<style scoped>\n    .dataframe tbody tr th:only-of-type {\n        vertical-align: middle;\n    }\n\n    .dataframe tbody tr th {\n        vertical-align: top;\n    }\n\n    .dataframe thead th {\n        text-align: right;\n    }\n</style>\n<table border=\"1\" class=\"dataframe\">\n  <thead>\n    <tr style=\"text-align: right;\">\n      <th></th>\n      <th>index</th>\n      <th>chr</th>\n      <th>geneid</th>\n      <th>peakname</th>\n      <th>pearson</th>\n      <th>mean</th>\n      <th>var</th>\n      <th>p_value</th>\n      <th>q_value</th>\n      <th>loadedanno.gene_id</th>\n      <th>loadedanno.gene_name</th>\n    </tr>\n  </thead>\n  <tbody>\n    <tr>\n      <td>0</td>\n      <td>25025876</td>\n      <td>chr15</td>\n      <td>ENSG00000258484.3</td>\n      <td>BRCA_160393</td>\n      <td>0.806929</td>\n      <td>0.006144</td>\n      <td>0.009467</td>\n      <td>1.110223e-16</td>\n      <td>3.311745e-09</td>\n      <td>ENSG00000258484.3</td>\n      <td>SPESP1</td>\n    </tr>\n    <tr>\n      <td>1</td>\n      <td>17681298</td>\n      <td>chr10</td>\n      <td>ENSG00000182645.5</td>\n      <td>BRCA_124058</td>\n      <td>0.845993</td>\n      <td>-0.004592</td>\n      <td>0.011063</td>\n      <td>3.330669e-16</td>\n      <td>4.967617e-09</td>\n      <td>ENSG00000182645.5</td>\n      <td>CCDC172</td>\n    </tr>\n    <tr>\n      <td>2</td>\n      <td>17738879</td>\n      <td>chr10</td>\n      <td>ENSG00000223432.1</td>\n      <td>BRCA_124058</td>\n      <td>0.778808</td>\n      <td>-0.006029</td>\n      <td>0.009699</td>\n      <td>7.771561e-16</td>\n      <td>7.727405e-09</td>\n      <td>ENSG00000223432.1</td>\n      <td>RP11-62L18.3</td>\n    </tr>\n    <tr>\n      <td>3</td>\n      <td>15832336</td>\n      <td>chr5</td>\n      <td>ENSG00000247516.4</td>\n      <td>BRCA_57874</td>\n      <td>0.676519</td>\n      <td>0.011784</td>\n      <td>0.007085</td>\n      <td>1.443290e-15</td>\n      <td>1.076317e-08</td>\n      <td>ENSG00000247516.4</td>\n      <td>MIR4458HG</td>\n    </tr>\n    <tr>\n      <td>4</td>\n      <td>17738882</td>\n      <td>chr10</td>\n      <td>ENSG00000223432.1</td>\n      <td>BRCA_124067</td>\n      <td>0.757826</td>\n      <td>-0.006029</td>\n      <td>0.009699</td>\n      <td>4.329870e-15</td>\n      <td>2.583161e-08</td>\n      <td>ENSG00000223432.1</td>\n      <td>RP11-62L18.3</td>\n    </tr>\n    <tr>\n      <td>...</td>\n      <td>...</td>\n      <td>...</td>\n      <td>...</td>\n      <td>...</td>\n      <td>...</td>\n      <td>...</td>\n      <td>...</td>\n      <td>...</td>\n      <td>...</td>\n      <td>...</td>\n      <td>...</td>\n    </tr>\n    <tr>\n      <td>41926</td>\n      <td>4571275</td>\n      <td>chr8</td>\n      <td>ENSG00000265266.1</td>\n      <td>BRCA_105525</td>\n      <td>0.443252</td>\n      <td>-0.003207</td>\n      <td>0.011363</td>\n      <td>1.405512e-05</td>\n      <td>9.999708e-03</td>\n      <td>ENSG00000265266.1</td>\n      <td>AC022681.1</td>\n    </tr>\n    <tr>\n      <td>41927</td>\n      <td>3499495</td>\n      <td>chr8</td>\n      <td>ENSG00000272159.1</td>\n      <td>BRCA_95561</td>\n      <td>0.533779</td>\n      <td>0.023737</td>\n      <td>0.014830</td>\n      <td>1.405514e-05</td>\n      <td>9.999485e-03</td>\n      <td>ENSG00000272159.1</td>\n      <td>RP11-350N15.6</td>\n    </tr>\n    <tr>\n      <td>41928</td>\n      <td>15812145</td>\n      <td>chr5</td>\n      <td>ENSG00000170561.11</td>\n      <td>BRCA_57611</td>\n      <td>0.594656</td>\n      <td>-0.004637</td>\n      <td>0.020474</td>\n      <td>1.405524e-05</td>\n      <td>9.999316e-03</td>\n      <td>ENSG00000170561.11</td>\n      <td>IRX2</td>\n    </tr>\n    <tr>\n      <td>41929</td>\n      <td>9269101</td>\n      <td>chr17</td>\n      <td>ENSG00000263818.4</td>\n      <td>BRCA_175440</td>\n      <td>0.499386</td>\n      <td>0.001136</td>\n      <td>0.014152</td>\n      <td>1.405582e-05</td>\n      <td>9.999493e-03</td>\n      <td>ENSG00000263818.4</td>\n      <td>CTD-2206N4.4</td>\n    </tr>\n    <tr>\n      <td>41930</td>\n      <td>9274474</td>\n      <td>chr17</td>\n      <td>ENSG00000141748.11</td>\n      <td>BRCA_175492</td>\n      <td>0.442789</td>\n      <td>-0.008415</td>\n      <td>0.011606</td>\n      <td>1.405635e-05</td>\n      <td>9.999634e-03</td>\n      <td>ENSG00000141748.11</td>\n      <td>ARL5C</td>\n    </tr>\n  </tbody>\n</table>\n<p>41931 rows × 11 columns</p>\n</div>"
     },
     "metadata": {},
     "output_type": "execute_result",
     "execution_count": 6
    }
   ],
   "source": [
    "myData = pd.merge(myData,geneName,how = 'left',left_on=['geneid'],right_on=['loadedanno.gene_id'])\n",
    "myData\n",
    "myData1 =  pd.merge(myData1,geneName,how = 'left',left_on=['geneid'],right_on=['loadedanno.gene_id'])\n",
    "myData1"
   ],
   "metadata": {
    "collapsed": false,
    "pycharm": {
     "name": "#%%\n",
     "is_executing": false
    }
   }
  },
  {
   "cell_type": "code",
   "execution_count": 3,
   "outputs": [
    {
     "data": {
      "text/plain": "      Linked_Gene    Peak_Name   Raw_FDR loadedanno.gene_name     peakname  \\\n0           ISG15      BRCA_55  0.000410                ISG15      BRCA_55   \n1           ISG15      BRCA_55  0.000410                ISG15      BRCA_56   \n2           ISG15      BRCA_55  0.000410                ISG15      BRCA_54   \n3           ISG15      BRCA_55  0.000410                ISG15      BRCA_52   \n4           ISG15      BRCA_56  0.000598                ISG15      BRCA_55   \n...           ...          ...       ...                  ...          ...   \n78339       FGF13  BRCA_215488  0.003202                FGF13  BRCA_215487   \n78340       FGF13  BRCA_215489  0.000725                FGF13  BRCA_215489   \n78341       FGF13  BRCA_215489  0.000725                FGF13  BRCA_215488   \n78342       FGF13  BRCA_215489  0.000725                FGF13  BRCA_215484   \n78343       FGF13  BRCA_215489  0.000725                FGF13  BRCA_215487   \n\n        q_value  \n0      0.000852  \n1      0.001521  \n2      0.005936  \n3      0.009076  \n4      0.000852  \n...         ...  \n78339  0.004447  \n78340  0.000560  \n78341  0.001953  \n78342  0.003556  \n78343  0.004447  \n\n[78344 rows x 6 columns]",
      "text/html": "<div>\n<style scoped>\n    .dataframe tbody tr th:only-of-type {\n        vertical-align: middle;\n    }\n\n    .dataframe tbody tr th {\n        vertical-align: top;\n    }\n\n    .dataframe thead th {\n        text-align: right;\n    }\n</style>\n<table border=\"1\" class=\"dataframe\">\n  <thead>\n    <tr style=\"text-align: right;\">\n      <th></th>\n      <th>Linked_Gene</th>\n      <th>Peak_Name</th>\n      <th>Raw_FDR</th>\n      <th>loadedanno.gene_name</th>\n      <th>peakname</th>\n      <th>q_value</th>\n    </tr>\n  </thead>\n  <tbody>\n    <tr>\n      <td>0</td>\n      <td>ISG15</td>\n      <td>BRCA_55</td>\n      <td>0.000410</td>\n      <td>ISG15</td>\n      <td>BRCA_55</td>\n      <td>0.000852</td>\n    </tr>\n    <tr>\n      <td>1</td>\n      <td>ISG15</td>\n      <td>BRCA_55</td>\n      <td>0.000410</td>\n      <td>ISG15</td>\n      <td>BRCA_56</td>\n      <td>0.001521</td>\n    </tr>\n    <tr>\n      <td>2</td>\n      <td>ISG15</td>\n      <td>BRCA_55</td>\n      <td>0.000410</td>\n      <td>ISG15</td>\n      <td>BRCA_54</td>\n      <td>0.005936</td>\n    </tr>\n    <tr>\n      <td>3</td>\n      <td>ISG15</td>\n      <td>BRCA_55</td>\n      <td>0.000410</td>\n      <td>ISG15</td>\n      <td>BRCA_52</td>\n      <td>0.009076</td>\n    </tr>\n    <tr>\n      <td>4</td>\n      <td>ISG15</td>\n      <td>BRCA_56</td>\n      <td>0.000598</td>\n      <td>ISG15</td>\n      <td>BRCA_55</td>\n      <td>0.000852</td>\n    </tr>\n    <tr>\n      <td>...</td>\n      <td>...</td>\n      <td>...</td>\n      <td>...</td>\n      <td>...</td>\n      <td>...</td>\n      <td>...</td>\n    </tr>\n    <tr>\n      <td>78339</td>\n      <td>FGF13</td>\n      <td>BRCA_215488</td>\n      <td>0.003202</td>\n      <td>FGF13</td>\n      <td>BRCA_215487</td>\n      <td>0.004447</td>\n    </tr>\n    <tr>\n      <td>78340</td>\n      <td>FGF13</td>\n      <td>BRCA_215489</td>\n      <td>0.000725</td>\n      <td>FGF13</td>\n      <td>BRCA_215489</td>\n      <td>0.000560</td>\n    </tr>\n    <tr>\n      <td>78341</td>\n      <td>FGF13</td>\n      <td>BRCA_215489</td>\n      <td>0.000725</td>\n      <td>FGF13</td>\n      <td>BRCA_215488</td>\n      <td>0.001953</td>\n    </tr>\n    <tr>\n      <td>78342</td>\n      <td>FGF13</td>\n      <td>BRCA_215489</td>\n      <td>0.000725</td>\n      <td>FGF13</td>\n      <td>BRCA_215484</td>\n      <td>0.003556</td>\n    </tr>\n    <tr>\n      <td>78343</td>\n      <td>FGF13</td>\n      <td>BRCA_215489</td>\n      <td>0.000725</td>\n      <td>FGF13</td>\n      <td>BRCA_215487</td>\n      <td>0.004447</td>\n    </tr>\n  </tbody>\n</table>\n<p>78344 rows × 6 columns</p>\n</div>"
     },
     "metadata": {},
     "output_type": "execute_result",
     "execution_count": 3
    }
   ],
   "source": [
    "relation_M1 = myData1[['loadedanno.gene_name','peakname','q_value']]\n",
    "relation_M = myData[['loadedanno.gene_name','peakname','q_value']]\n",
    "relation_G = givenData[['Linked_Gene','Peak_Name','Raw_FDR','Raw_Correlation']]\n",
    "\n",
    "comparing = pd.merge(relation_G,relation_M,how='inner',left_on=['Linked_Gene'],right_on=['loadedanno.gene_name'])\n",
    "comparing"
   ],
   "metadata": {
    "collapsed": false,
    "pycharm": {
     "name": "#%%\n",
     "is_executing": false
    }
   }
  },
  {
   "cell_type": "code",
   "execution_count": 13,
   "outputs": [],
   "source": [
    "comparing1 = comparing[comparing['Peak_Name']==comparing['peakname']]\n",
    "del comparing1['loadedanno.gene_name']\n",
    "del comparing1['peakname']\n",
    "comparing1 = pd.merge(comparing1,peakAnno,how='left',left_on='Peak_Name',right_on='name')\n",
    "del comparing1['Peak_Name']\n",
    "del comparing1['end']\n",
    "comparing1 = pd.merge(comparing1,geneAnno,how='left',left_on='Linked_Gene',right_on='loadedanno.gene_name')\n",
    "del comparing1['loadedanno.gene_name']\n",
    "\n",
    "del comparing1['loadedanno.type']\n",
    "del comparing1['width']\n",
    "del comparing1['exonlen']\n",
    "del comparing1['chr']\n",
    "del comparing1['q_value']\n",
    "distence = comparing1['start_x']-comparing1['start_y']\n",
    "comparing1['dist'] = distence\n",
    "comparing1.to_csv('final_result1.csv',index=0)"
   ],
   "metadata": {
    "collapsed": false,
    "pycharm": {
     "name": "#%%\n",
     "is_executing": false
    }
   }
  },
  {
   "cell_type": "code",
   "execution_count": 17,
   "outputs": [
    {
     "data": {
      "text/plain": "                    geneid  times\nHOXB-AS3          HOXB-AS3     55\nHOXB6                HOXB6     32\nPLAC4                PLAC4     28\nRP1-309I22.2  RP1-309I22.2     21\nDDHD2                DDHD2     19\n...                    ...    ...\nLONRF1              LONRF1      1\nFAM95C              FAM95C      1\nZNF667-AS1      ZNF667-AS1      1\nTRIM54              TRIM54      1\nC17orf89          C17orf89      1\n\n[1297 rows x 2 columns]",
      "text/html": "<div>\n<style scoped>\n    .dataframe tbody tr th:only-of-type {\n        vertical-align: middle;\n    }\n\n    .dataframe tbody tr th {\n        vertical-align: top;\n    }\n\n    .dataframe thead th {\n        text-align: right;\n    }\n</style>\n<table border=\"1\" class=\"dataframe\">\n  <thead>\n    <tr style=\"text-align: right;\">\n      <th></th>\n      <th>geneid</th>\n      <th>times</th>\n    </tr>\n  </thead>\n  <tbody>\n    <tr>\n      <td>HOXB-AS3</td>\n      <td>HOXB-AS3</td>\n      <td>55</td>\n    </tr>\n    <tr>\n      <td>HOXB6</td>\n      <td>HOXB6</td>\n      <td>32</td>\n    </tr>\n    <tr>\n      <td>PLAC4</td>\n      <td>PLAC4</td>\n      <td>28</td>\n    </tr>\n    <tr>\n      <td>RP1-309I22.2</td>\n      <td>RP1-309I22.2</td>\n      <td>21</td>\n    </tr>\n    <tr>\n      <td>DDHD2</td>\n      <td>DDHD2</td>\n      <td>19</td>\n    </tr>\n    <tr>\n      <td>...</td>\n      <td>...</td>\n      <td>...</td>\n    </tr>\n    <tr>\n      <td>LONRF1</td>\n      <td>LONRF1</td>\n      <td>1</td>\n    </tr>\n    <tr>\n      <td>FAM95C</td>\n      <td>FAM95C</td>\n      <td>1</td>\n    </tr>\n    <tr>\n      <td>ZNF667-AS1</td>\n      <td>ZNF667-AS1</td>\n      <td>1</td>\n    </tr>\n    <tr>\n      <td>TRIM54</td>\n      <td>TRIM54</td>\n      <td>1</td>\n    </tr>\n    <tr>\n      <td>C17orf89</td>\n      <td>C17orf89</td>\n      <td>1</td>\n    </tr>\n  </tbody>\n</table>\n<p>1297 rows × 2 columns</p>\n</div>"
     },
     "metadata": {},
     "output_type": "execute_result",
     "execution_count": 17
    }
   ],
   "source": [
    "see = comparing1['Linked_Gene'].value_counts()\n",
    "see\n",
    "\n",
    "one =  see.index \n",
    "geneidfre = pd.DataFrame({'geneid':one,'times':see})"
   ],
   "metadata": {
    "collapsed": false,
    "pycharm": {
     "name": "#%%\n",
     "is_executing": false
    }
   }
  },
  {
   "cell_type": "code",
   "execution_count": 18,
   "outputs": [],
   "source": [
    "geneidfre.to_csv('gene_times.txt',sep='\\t',index=0)"
   ],
   "metadata": {
    "collapsed": false,
    "pycharm": {
     "name": "#%%\n",
     "is_executing": false
    }
   }
  },
  {
   "cell_type": "code",
   "source": [
    "comparing2 = pd.merge(relation_G,relation_M1,how='inner',left_on=['Linked_Gene'],right_on=['loadedanno.gene_name'])\n",
    "comparing2 = comparing2[comparing2['Peak_Name']==comparing2['peakname']]\n",
    "comparing2"
   ],
   "metadata": {
    "collapsed": false,
    "pycharm": {
     "name": "#%%\n",
     "is_executing": false
    }
   },
   "execution_count": 8,
   "outputs": [
    {
     "data": {
      "text/plain": "       Linked_Gene    Peak_Name   Raw_FDR loadedanno.gene_name     peakname  \\\n0            ISG15      BRCA_55  0.000410                ISG15      BRCA_55   \n5            ISG15      BRCA_56  0.000598                ISG15      BRCA_56   \n10           ISG15      BRCA_54  0.001011                ISG15      BRCA_54   \n12       ARHGEF10L    BRCA_2138  0.001070            ARHGEF10L    BRCA_2138   \n16          LIN28A    BRCA_3222  0.000829               LIN28A    BRCA_3222   \n...            ...          ...       ...                  ...          ...   \n105156        BEX2  BRCA_214533  0.000954                 BEX2  BRCA_214533   \n105157      KLHL13  BRCA_214886  0.000540               KLHL13  BRCA_214886   \n105159        GPC4  BRCA_215304  0.000676                 GPC4  BRCA_215304   \n105161       FGF13  BRCA_215488  0.003202                FGF13  BRCA_215488   \n105164       FGF13  BRCA_215489  0.000725                FGF13  BRCA_215489   \n\n         q_value  \n0       0.000265  \n5       0.000542  \n10      0.003148  \n12      0.007413  \n16      0.000241  \n...          ...  \n105156  0.001603  \n105157  0.005708  \n105159  0.000724  \n105161  0.003531  \n105164  0.001081  \n\n[2703 rows x 6 columns]",
      "text/html": "<div>\n<style scoped>\n    .dataframe tbody tr th:only-of-type {\n        vertical-align: middle;\n    }\n\n    .dataframe tbody tr th {\n        vertical-align: top;\n    }\n\n    .dataframe thead th {\n        text-align: right;\n    }\n</style>\n<table border=\"1\" class=\"dataframe\">\n  <thead>\n    <tr style=\"text-align: right;\">\n      <th></th>\n      <th>Linked_Gene</th>\n      <th>Peak_Name</th>\n      <th>Raw_FDR</th>\n      <th>loadedanno.gene_name</th>\n      <th>peakname</th>\n      <th>q_value</th>\n    </tr>\n  </thead>\n  <tbody>\n    <tr>\n      <td>0</td>\n      <td>ISG15</td>\n      <td>BRCA_55</td>\n      <td>0.000410</td>\n      <td>ISG15</td>\n      <td>BRCA_55</td>\n      <td>0.000265</td>\n    </tr>\n    <tr>\n      <td>5</td>\n      <td>ISG15</td>\n      <td>BRCA_56</td>\n      <td>0.000598</td>\n      <td>ISG15</td>\n      <td>BRCA_56</td>\n      <td>0.000542</td>\n    </tr>\n    <tr>\n      <td>10</td>\n      <td>ISG15</td>\n      <td>BRCA_54</td>\n      <td>0.001011</td>\n      <td>ISG15</td>\n      <td>BRCA_54</td>\n      <td>0.003148</td>\n    </tr>\n    <tr>\n      <td>12</td>\n      <td>ARHGEF10L</td>\n      <td>BRCA_2138</td>\n      <td>0.001070</td>\n      <td>ARHGEF10L</td>\n      <td>BRCA_2138</td>\n      <td>0.007413</td>\n    </tr>\n    <tr>\n      <td>16</td>\n      <td>LIN28A</td>\n      <td>BRCA_3222</td>\n      <td>0.000829</td>\n      <td>LIN28A</td>\n      <td>BRCA_3222</td>\n      <td>0.000241</td>\n    </tr>\n    <tr>\n      <td>...</td>\n      <td>...</td>\n      <td>...</td>\n      <td>...</td>\n      <td>...</td>\n      <td>...</td>\n      <td>...</td>\n    </tr>\n    <tr>\n      <td>105156</td>\n      <td>BEX2</td>\n      <td>BRCA_214533</td>\n      <td>0.000954</td>\n      <td>BEX2</td>\n      <td>BRCA_214533</td>\n      <td>0.001603</td>\n    </tr>\n    <tr>\n      <td>105157</td>\n      <td>KLHL13</td>\n      <td>BRCA_214886</td>\n      <td>0.000540</td>\n      <td>KLHL13</td>\n      <td>BRCA_214886</td>\n      <td>0.005708</td>\n    </tr>\n    <tr>\n      <td>105159</td>\n      <td>GPC4</td>\n      <td>BRCA_215304</td>\n      <td>0.000676</td>\n      <td>GPC4</td>\n      <td>BRCA_215304</td>\n      <td>0.000724</td>\n    </tr>\n    <tr>\n      <td>105161</td>\n      <td>FGF13</td>\n      <td>BRCA_215488</td>\n      <td>0.003202</td>\n      <td>FGF13</td>\n      <td>BRCA_215488</td>\n      <td>0.003531</td>\n    </tr>\n    <tr>\n      <td>105164</td>\n      <td>FGF13</td>\n      <td>BRCA_215489</td>\n      <td>0.000725</td>\n      <td>FGF13</td>\n      <td>BRCA_215489</td>\n      <td>0.001081</td>\n    </tr>\n  </tbody>\n</table>\n<p>2703 rows × 6 columns</p>\n</div>"
     },
     "metadata": {},
     "output_type": "execute_result",
     "execution_count": 8
    }
   ]
  },
  {
   "cell_type": "code",
   "execution_count": 13,
   "outputs": [
    {
     "data": {
      "text/plain": "         loadedanno.gene_name   peakname_x     q_value_x   peakname_y  \\\n0                     CCDC172  BRCA_124058  3.311745e-09  BRCA_124058   \n88                    CCDC172  BRCA_124065  8.068615e-08  BRCA_124065   \n176                   CCDC172  BRCA_124191  1.210443e-07  BRCA_124191   \n264                   CCDC172  BRCA_124181  1.351507e-07  BRCA_124181   \n352                   CCDC172  BRCA_124189  1.239357e-07  BRCA_124189   \n...                       ...          ...           ...          ...   \n13483650               CSF2RA  BRCA_212007  9.900621e-03  BRCA_212007   \n13483651            LINC00704  BRCA_116032  9.910766e-03  BRCA_116032   \n13483652               EIF2S1  BRCA_153774  9.970024e-03  BRCA_153774   \n13483653               LRRIQ1  BRCA_143103  9.970085e-03  BRCA_143103   \n13483654        RP11-493E12.1   BRCA_27070  9.982316e-03   BRCA_27070   \n\n             q_value_y  \n0         4.967617e-09  \n88        1.129889e-07  \n176       1.766645e-07  \n264       1.871136e-07  \n352       1.882175e-07  \n...                ...  \n13483650  9.843057e-03  \n13483651  9.205839e-03  \n13483652  9.031331e-03  \n13483653  9.494960e-03  \n13483654  9.996072e-03  \n\n[40542 rows x 5 columns]",
      "text/html": "<div>\n<style scoped>\n    .dataframe tbody tr th:only-of-type {\n        vertical-align: middle;\n    }\n\n    .dataframe tbody tr th {\n        vertical-align: top;\n    }\n\n    .dataframe thead th {\n        text-align: right;\n    }\n</style>\n<table border=\"1\" class=\"dataframe\">\n  <thead>\n    <tr style=\"text-align: right;\">\n      <th></th>\n      <th>loadedanno.gene_name</th>\n      <th>peakname_x</th>\n      <th>q_value_x</th>\n      <th>peakname_y</th>\n      <th>q_value_y</th>\n    </tr>\n  </thead>\n  <tbody>\n    <tr>\n      <td>0</td>\n      <td>CCDC172</td>\n      <td>BRCA_124058</td>\n      <td>3.311745e-09</td>\n      <td>BRCA_124058</td>\n      <td>4.967617e-09</td>\n    </tr>\n    <tr>\n      <td>88</td>\n      <td>CCDC172</td>\n      <td>BRCA_124065</td>\n      <td>8.068615e-08</td>\n      <td>BRCA_124065</td>\n      <td>1.129889e-07</td>\n    </tr>\n    <tr>\n      <td>176</td>\n      <td>CCDC172</td>\n      <td>BRCA_124191</td>\n      <td>1.210443e-07</td>\n      <td>BRCA_124191</td>\n      <td>1.766645e-07</td>\n    </tr>\n    <tr>\n      <td>264</td>\n      <td>CCDC172</td>\n      <td>BRCA_124181</td>\n      <td>1.351507e-07</td>\n      <td>BRCA_124181</td>\n      <td>1.871136e-07</td>\n    </tr>\n    <tr>\n      <td>352</td>\n      <td>CCDC172</td>\n      <td>BRCA_124189</td>\n      <td>1.239357e-07</td>\n      <td>BRCA_124189</td>\n      <td>1.882175e-07</td>\n    </tr>\n    <tr>\n      <td>...</td>\n      <td>...</td>\n      <td>...</td>\n      <td>...</td>\n      <td>...</td>\n      <td>...</td>\n    </tr>\n    <tr>\n      <td>13483650</td>\n      <td>CSF2RA</td>\n      <td>BRCA_212007</td>\n      <td>9.900621e-03</td>\n      <td>BRCA_212007</td>\n      <td>9.843057e-03</td>\n    </tr>\n    <tr>\n      <td>13483651</td>\n      <td>LINC00704</td>\n      <td>BRCA_116032</td>\n      <td>9.910766e-03</td>\n      <td>BRCA_116032</td>\n      <td>9.205839e-03</td>\n    </tr>\n    <tr>\n      <td>13483652</td>\n      <td>EIF2S1</td>\n      <td>BRCA_153774</td>\n      <td>9.970024e-03</td>\n      <td>BRCA_153774</td>\n      <td>9.031331e-03</td>\n    </tr>\n    <tr>\n      <td>13483653</td>\n      <td>LRRIQ1</td>\n      <td>BRCA_143103</td>\n      <td>9.970085e-03</td>\n      <td>BRCA_143103</td>\n      <td>9.494960e-03</td>\n    </tr>\n    <tr>\n      <td>13483654</td>\n      <td>RP11-493E12.1</td>\n      <td>BRCA_27070</td>\n      <td>9.982316e-03</td>\n      <td>BRCA_27070</td>\n      <td>9.996072e-03</td>\n    </tr>\n  </tbody>\n</table>\n<p>40542 rows × 5 columns</p>\n</div>"
     },
     "metadata": {},
     "output_type": "execute_result",
     "execution_count": 13
    }
   ],
   "source": [
    "comparing3 = pd.merge(relation_M,relation_M1,how='inner',on=['loadedanno.gene_name'])\n",
    "comparing3 = comparing3[comparing3['peakname_x']==comparing3['peakname_y']]\n",
    "comparing3"
   ],
   "metadata": {
    "collapsed": false,
    "pycharm": {
     "name": "#%%\n",
     "is_executing": false
    }
   }
  },
  {
   "cell_type": "code",
   "execution_count": 14,
   "outputs": [
    {
     "data": {
      "text/plain": "      loadedanno.gene_name     peakname       q_value\n0                  CCDC172  BRCA_124058  3.311745e-09\n1                   SPESP1  BRCA_160393  1.655872e-09\n2             RP11-62L18.3  BRCA_124058  4.415660e-09\n3                MIR4458HG   BRCA_57874  9.935235e-09\n4             RP11-62L18.3  BRCA_124067  1.589638e-08\n...                    ...          ...           ...\n43834                MIEN1  BRCA_175787  9.998851e-03\n43835          CTB-58E17.9  BRCA_175049  9.999176e-03\n43836                DDHD2   BRCA_95678  9.999149e-03\n43837                 AIM1   BRCA_75196  9.999842e-03\n43838               STARD3  BRCA_176030  9.999634e-03\n\n[43839 rows x 3 columns]",
      "text/html": "<div>\n<style scoped>\n    .dataframe tbody tr th:only-of-type {\n        vertical-align: middle;\n    }\n\n    .dataframe tbody tr th {\n        vertical-align: top;\n    }\n\n    .dataframe thead th {\n        text-align: right;\n    }\n</style>\n<table border=\"1\" class=\"dataframe\">\n  <thead>\n    <tr style=\"text-align: right;\">\n      <th></th>\n      <th>loadedanno.gene_name</th>\n      <th>peakname</th>\n      <th>q_value</th>\n    </tr>\n  </thead>\n  <tbody>\n    <tr>\n      <td>0</td>\n      <td>CCDC172</td>\n      <td>BRCA_124058</td>\n      <td>3.311745e-09</td>\n    </tr>\n    <tr>\n      <td>1</td>\n      <td>SPESP1</td>\n      <td>BRCA_160393</td>\n      <td>1.655872e-09</td>\n    </tr>\n    <tr>\n      <td>2</td>\n      <td>RP11-62L18.3</td>\n      <td>BRCA_124058</td>\n      <td>4.415660e-09</td>\n    </tr>\n    <tr>\n      <td>3</td>\n      <td>MIR4458HG</td>\n      <td>BRCA_57874</td>\n      <td>9.935235e-09</td>\n    </tr>\n    <tr>\n      <td>4</td>\n      <td>RP11-62L18.3</td>\n      <td>BRCA_124067</td>\n      <td>1.589638e-08</td>\n    </tr>\n    <tr>\n      <td>...</td>\n      <td>...</td>\n      <td>...</td>\n      <td>...</td>\n    </tr>\n    <tr>\n      <td>43834</td>\n      <td>MIEN1</td>\n      <td>BRCA_175787</td>\n      <td>9.998851e-03</td>\n    </tr>\n    <tr>\n      <td>43835</td>\n      <td>CTB-58E17.9</td>\n      <td>BRCA_175049</td>\n      <td>9.999176e-03</td>\n    </tr>\n    <tr>\n      <td>43836</td>\n      <td>DDHD2</td>\n      <td>BRCA_95678</td>\n      <td>9.999149e-03</td>\n    </tr>\n    <tr>\n      <td>43837</td>\n      <td>AIM1</td>\n      <td>BRCA_75196</td>\n      <td>9.999842e-03</td>\n    </tr>\n    <tr>\n      <td>43838</td>\n      <td>STARD3</td>\n      <td>BRCA_176030</td>\n      <td>9.999634e-03</td>\n    </tr>\n  </tbody>\n</table>\n<p>43839 rows × 3 columns</p>\n</div>"
     },
     "metadata": {},
     "output_type": "execute_result",
     "execution_count": 14
    }
   ],
   "source": [
    "relation_M"
   ],
   "metadata": {
    "collapsed": false,
    "pycharm": {
     "name": "#%%\n",
     "is_executing": false
    }
   }
  },
  {
   "cell_type": "code",
   "execution_count": 17,
   "outputs": [
    {
     "name": "stdout",
     "text": [
      "0.0015615428375202905\n0.0012043919938093323\n"
     ],
     "output_type": "stream"
    }
   ],
   "source": [
    "import  numpy as np\n",
    "meanGiven = np.mean(givenData['Raw_FDR'])\n",
    "print(str(meanGiven))\n",
    "meanRemain = np.mean(comparing1['Raw_FDR'])\n",
    "print(str(meanRemain))"
   ],
   "metadata": {
    "collapsed": false,
    "pycharm": {
     "name": "#%%\n",
     "is_executing": false
    }
   }
  },
  {
   "cell_type": "code",
   "execution_count": 30,
   "outputs": [
    {
     "data": {
      "text/plain": "-278       5\n-273       4\n-282       3\n-249       3\n-307       3\n          ..\n 89337     1\n-309844    1\n 14932     1\n 10838     1\n 533       1\nLength: 2347, dtype: int64"
     },
     "metadata": {},
     "output_type": "execute_result",
     "execution_count": 30
    }
   ],
   "source": [
    "import matplotlib.pyplot as plt\n",
    "distence.value_counts()"
   ],
   "metadata": {
    "collapsed": false,
    "pycharm": {
     "name": "#%%\n",
     "is_executing": false
    }
   }
  },
  {
   "cell_type": "code",
   "execution_count": 40,
   "outputs": [
    {
     "data": {
      "text/plain": "<Figure size 432x288 with 1 Axes>",
      "image/png": "[encoded data removed]"
     },
     "metadata": {
      "needs_background": "light"
     },
     "output_type": "display_data"
    }
   ],
   "source": [
    "from scipy import stats\n",
    "import numpy as np\n",
    "x = np.linspace(-3,3,100000)\n",
    "y = stats.norm.pdf(x,0,1)\n",
    "z = stats.t.pdf(x,9999)\n",
    "plt.plot(x,y,c=\"red\")\n",
    "plt.plot(x,z,c=\"blue\")\n",
    "plt.legend(['norm','t'])\n",
    "plt.title('PDF of norm&t distribution')\n",
    "\n",
    "\n",
    "plt.savefig('normT.jpg')\n",
    "plt.show()"
   ],
   "metadata": {
    "collapsed": false,
    "pycharm": {
     "name": "#%%\n",
     "is_executing": false
    }
   }
  },
  {
   "cell_type": "code",
   "execution_count": 3,
   "outputs": [],
   "source": [
    "teatPearson = pd.read_csv('test_pearson_onBRCA_11.csv',header=0)"
   ],
   "metadata": {
    "collapsed": false,
    "pycharm": {
     "name": "#%%\n",
     "is_executing": false
    }
   }
  },
  {
   "cell_type": "code",
   "execution_count": 11,
   "outputs": [],
   "source": [],
   "metadata": {
    "collapsed": false,
    "pycharm": {
     "name": "#%%\n",
     "is_executing": false
    }
   }
  },
  {
   "cell_type": "code",
   "execution_count": 4,
   "outputs": [],
   "source": [
    "relation_G = givenData[['Linked_Gene','Peak_Name','Raw_FDR','Raw_Correlation']]\n",
    "myData2 =  pd.merge(teatPearson,geneName,how = 'left',left_on=['geneid'],right_on=['loadedanno.gene_id'])\n",
    "comparing22 = pd.merge(relation_G,myData2,how='inner',left_on=['Linked_Gene'],right_on=['loadedanno.gene_name'])\n"
   ],
   "metadata": {
    "collapsed": false,
    "pycharm": {
     "name": "#%%\n",
     "is_executing": false
    }
   }
  },
  {
   "cell_type": "code",
   "execution_count": 5,
   "outputs": [
    {
     "data": {
      "text/plain": "         Linked_Gene    Peak_Name   Raw_FDR  Raw_Correlation   chr  \\\n20            SAMD11      BRCA_33  0.000610         0.714683  chr1   \n437           SAMD11      BRCA_21  0.002345         0.631410  chr1   \n866           SAMD11      BRCA_25  0.000616         0.713963  chr1   \n1295          SAMD11      BRCA_30  0.000913         0.688027  chr1   \n1722          SAMD11      BRCA_31  0.000546         0.722300  chr1   \n...              ...          ...       ...              ...   ...   \n17484870       FGF13  BRCA_215488  0.003202         0.612873  chrX   \n17485045       FGF13  BRCA_215489  0.000725         0.702742  chrX   \n17485628       TREX2  BRCA_215724  0.002682         0.623386  chrX   \n17485876       RENBP  BRCA_215800  0.002862         0.619495  chrX   \n17486111        G6PD  BRCA_215894  0.001826         0.646297  chrX   \n\n                      geneid     peakname   pearson             p  \\\n20         ENSG00000187634.9      BRCA_33  0.664366  1.264819e-12   \n437        ENSG00000187634.9      BRCA_21  0.557175  1.420609e-08   \n866        ENSG00000187634.9      BRCA_25  0.641291  1.285256e-11   \n1295       ENSG00000187634.9      BRCA_30  0.630853  3.444331e-11   \n1722       ENSG00000187634.9      BRCA_31  0.660313  1.928728e-12   \n...                      ...          ...       ...           ...   \n17484870  ENSG00000129682.12  BRCA_215488  0.476440  2.363554e-06   \n17485045  ENSG00000129682.12  BRCA_215489  0.516576  2.193511e-07   \n17485628  ENSG00000183479.11  BRCA_215724  0.481551  1.775256e-06   \n17485876  ENSG00000102032.11  BRCA_215800  0.417534  4.683220e-05   \n17486111  ENSG00000160211.14  BRCA_215894  0.517013  2.133869e-07   \n\n          loadedanno.gene_id loadedanno.gene_name  \n20         ENSG00000187634.9               SAMD11  \n437        ENSG00000187634.9               SAMD11  \n866        ENSG00000187634.9               SAMD11  \n1295       ENSG00000187634.9               SAMD11  \n1722       ENSG00000187634.9               SAMD11  \n...                      ...                  ...  \n17484870  ENSG00000129682.12                FGF13  \n17485045  ENSG00000129682.12                FGF13  \n17485628  ENSG00000183479.11                TREX2  \n17485876  ENSG00000102032.11                RENBP  \n17486111  ENSG00000160211.14                 G6PD  \n\n[13099 rows x 11 columns]",
      "text/html": "<div>\n<style scoped>\n    .dataframe tbody tr th:only-of-type {\n        vertical-align: middle;\n    }\n\n    .dataframe tbody tr th {\n        vertical-align: top;\n    }\n\n    .dataframe thead th {\n        text-align: right;\n    }\n</style>\n<table border=\"1\" class=\"dataframe\">\n  <thead>\n    <tr style=\"text-align: right;\">\n      <th></th>\n      <th>Linked_Gene</th>\n      <th>Peak_Name</th>\n      <th>Raw_FDR</th>\n      <th>Raw_Correlation</th>\n      <th>chr</th>\n      <th>geneid</th>\n      <th>peakname</th>\n      <th>pearson</th>\n      <th>p</th>\n      <th>loadedanno.gene_id</th>\n      <th>loadedanno.gene_name</th>\n    </tr>\n  </thead>\n  <tbody>\n    <tr>\n      <td>20</td>\n      <td>SAMD11</td>\n      <td>BRCA_33</td>\n      <td>0.000610</td>\n      <td>0.714683</td>\n      <td>chr1</td>\n      <td>ENSG00000187634.9</td>\n      <td>BRCA_33</td>\n      <td>0.664366</td>\n      <td>1.264819e-12</td>\n      <td>ENSG00000187634.9</td>\n      <td>SAMD11</td>\n    </tr>\n    <tr>\n      <td>437</td>\n      <td>SAMD11</td>\n      <td>BRCA_21</td>\n      <td>0.002345</td>\n      <td>0.631410</td>\n      <td>chr1</td>\n      <td>ENSG00000187634.9</td>\n      <td>BRCA_21</td>\n      <td>0.557175</td>\n      <td>1.420609e-08</td>\n      <td>ENSG00000187634.9</td>\n      <td>SAMD11</td>\n    </tr>\n    <tr>\n      <td>866</td>\n      <td>SAMD11</td>\n      <td>BRCA_25</td>\n      <td>0.000616</td>\n      <td>0.713963</td>\n      <td>chr1</td>\n      <td>ENSG00000187634.9</td>\n      <td>BRCA_25</td>\n      <td>0.641291</td>\n      <td>1.285256e-11</td>\n      <td>ENSG00000187634.9</td>\n      <td>SAMD11</td>\n    </tr>\n    <tr>\n      <td>1295</td>\n      <td>SAMD11</td>\n      <td>BRCA_30</td>\n      <td>0.000913</td>\n      <td>0.688027</td>\n      <td>chr1</td>\n      <td>ENSG00000187634.9</td>\n      <td>BRCA_30</td>\n      <td>0.630853</td>\n      <td>3.444331e-11</td>\n      <td>ENSG00000187634.9</td>\n      <td>SAMD11</td>\n    </tr>\n    <tr>\n      <td>1722</td>\n      <td>SAMD11</td>\n      <td>BRCA_31</td>\n      <td>0.000546</td>\n      <td>0.722300</td>\n      <td>chr1</td>\n      <td>ENSG00000187634.9</td>\n      <td>BRCA_31</td>\n      <td>0.660313</td>\n      <td>1.928728e-12</td>\n      <td>ENSG00000187634.9</td>\n      <td>SAMD11</td>\n    </tr>\n    <tr>\n      <td>...</td>\n      <td>...</td>\n      <td>...</td>\n      <td>...</td>\n      <td>...</td>\n      <td>...</td>\n      <td>...</td>\n      <td>...</td>\n      <td>...</td>\n      <td>...</td>\n      <td>...</td>\n      <td>...</td>\n    </tr>\n    <tr>\n      <td>17484870</td>\n      <td>FGF13</td>\n      <td>BRCA_215488</td>\n      <td>0.003202</td>\n      <td>0.612873</td>\n      <td>chrX</td>\n      <td>ENSG00000129682.12</td>\n      <td>BRCA_215488</td>\n      <td>0.476440</td>\n      <td>2.363554e-06</td>\n      <td>ENSG00000129682.12</td>\n      <td>FGF13</td>\n    </tr>\n    <tr>\n      <td>17485045</td>\n      <td>FGF13</td>\n      <td>BRCA_215489</td>\n      <td>0.000725</td>\n      <td>0.702742</td>\n      <td>chrX</td>\n      <td>ENSG00000129682.12</td>\n      <td>BRCA_215489</td>\n      <td>0.516576</td>\n      <td>2.193511e-07</td>\n      <td>ENSG00000129682.12</td>\n      <td>FGF13</td>\n    </tr>\n    <tr>\n      <td>17485628</td>\n      <td>TREX2</td>\n      <td>BRCA_215724</td>\n      <td>0.002682</td>\n      <td>0.623386</td>\n      <td>chrX</td>\n      <td>ENSG00000183479.11</td>\n      <td>BRCA_215724</td>\n      <td>0.481551</td>\n      <td>1.775256e-06</td>\n      <td>ENSG00000183479.11</td>\n      <td>TREX2</td>\n    </tr>\n    <tr>\n      <td>17485876</td>\n      <td>RENBP</td>\n      <td>BRCA_215800</td>\n      <td>0.002862</td>\n      <td>0.619495</td>\n      <td>chrX</td>\n      <td>ENSG00000102032.11</td>\n      <td>BRCA_215800</td>\n      <td>0.417534</td>\n      <td>4.683220e-05</td>\n      <td>ENSG00000102032.11</td>\n      <td>RENBP</td>\n    </tr>\n    <tr>\n      <td>17486111</td>\n      <td>G6PD</td>\n      <td>BRCA_215894</td>\n      <td>0.001826</td>\n      <td>0.646297</td>\n      <td>chrX</td>\n      <td>ENSG00000160211.14</td>\n      <td>BRCA_215894</td>\n      <td>0.517013</td>\n      <td>2.133869e-07</td>\n      <td>ENSG00000160211.14</td>\n      <td>G6PD</td>\n    </tr>\n  </tbody>\n</table>\n<p>13099 rows × 11 columns</p>\n</div>"
     },
     "metadata": {},
     "output_type": "execute_result",
     "execution_count": 5
    }
   ],
   "source": [
    "comparing22 = comparing22[comparing22['Peak_Name']==comparing22['peakname']]\n",
    "comparing22\n"
   ],
   "metadata": {
    "collapsed": false,
    "pycharm": {
     "name": "#%%\n",
     "is_executing": false
    }
   }
  },
  {
   "cell_type": "code",
   "execution_count": 17,
   "outputs": [],
   "source": [
    "teatPearson.sort_values(by='p',ascending=True,inplace=True)\n",
    "teatPearson.reset_index(inplace=True)\n"
   ],
   "metadata": {
    "collapsed": false,
    "pycharm": {
     "name": "#%%\n",
     "is_executing": false
    }
   }
  }
 ],
 "metadata": {
  "language_info": {
   "codemirror_mode": {
    "name": "ipython",
    "version": 2
   },
   "file_extension": ".py",
   "mimetype": "text/x-python",
   "name": "python",
   "nbconvert_exporter": "python",
   "pygments_lexer": "ipython2",
   "version": "2.7.6"
  },
  "kernelspec": {
   "name": "python3",
   "language": "python",
   "display_name": "Python 3"
  },
  "pycharm": {
   "stem_cell": {
    "cell_type": "raw",
    "source": [],
    "metadata": {
     "collapsed": false
    }
   }
  }
 },
 "nbformat": 4,
 "nbformat_minor": 0
}